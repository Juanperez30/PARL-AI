{
  "nbformat": 4,
  "nbformat_minor": 0,
  "metadata": {
    "colab": {
      "name": "parlAI.ipynb",
      "provenance": [],
      "collapsed_sections": []
    },
    "kernelspec": {
      "name": "python3",
      "display_name": "Python 3"
    },
    "language_info": {
      "name": "python"
    }
  },
  "cells": [
    {
      "cell_type": "markdown",
      "metadata": {
        "id": "jodVyIICCh1H"
      },
      "source": [
        "# **PREDICCIÓN DE RESULTADOS EN PARTIDOS DE FÚTBOL (PARL-AI)**\n",
        "\n",
        "---\n",
        "\n",
        "> Juan Pablo Pérez Leal\n",
        "\n",
        "> Laura Natalia Jaimes Antolínez\n",
        "\n",
        "\n",
        "\n",
        "\n"
      ]
    },
    {
      "cell_type": "code",
      "metadata": {
        "colab": {
          "base_uri": "https://localhost:8080/"
        },
        "id": "ubZjd8yQT22J",
        "outputId": "968f25f7-0660-4684-d09b-9a1f761a0446"
      },
      "source": [
        "import os\n",
        "from google.colab import drive\n",
        "drive.mount('/content/drive')\n",
        "os.chdir('/content/drive/My Drive/ProyectoAI1')\n",
        "print(os.getcwd())"
      ],
      "execution_count": null,
      "outputs": [
        {
          "output_type": "stream",
          "name": "stdout",
          "text": [
            "Drive already mounted at /content/drive; to attempt to forcibly remount, call drive.mount(\"/content/drive\", force_remount=True).\n",
            "/content/drive/My Drive/ProyectoAI1\n"
          ]
        }
      ]
    },
    {
      "cell_type": "markdown",
      "metadata": {
        "id": "q5ZrTNmGSmDi"
      },
      "source": [
        "*Importamos las librerias necesarias para el desarrollo de este proyecto.*"
      ]
    },
    {
      "cell_type": "code",
      "metadata": {
        "id": "t9byjrHoUW4v"
      },
      "source": [
        "import numpy as np\n",
        "import pandas as pd\n",
        "import matplotlib.pyplot as plt\n",
        "import scipy.stats as stats\n",
        "import seaborn as sns\n",
        "sns.set_theme()\n",
        "from sklearn.svm import SVR\n",
        "from sklearn.svm import SVC\n",
        "from sklearn.metrics import mean_squared_error\n",
        "from sklearn.multioutput import MultiOutputRegressor\n",
        "from sklearn.metrics import accuracy_score\n",
        "from sklearn.ensemble import RandomForestClassifier"
      ],
      "execution_count": null,
      "outputs": []
    },
    {
      "cell_type": "markdown",
      "metadata": {
        "id": "1WC0p3vBN-g5"
      },
      "source": [
        "*Importamos los respectivos datasets.*"
      ]
    },
    {
      "cell_type": "code",
      "metadata": {
        "id": "W4ZZBaHHVCpz"
      },
      "source": [
        "partidos = pd.read_csv(\"data/results.csv\")\n",
        "puntajes = pd.read_csv(\"data/shootouts.csv\")"
      ],
      "execution_count": null,
      "outputs": []
    },
    {
      "cell_type": "code",
      "metadata": {
        "colab": {
          "base_uri": "https://localhost:8080/",
          "height": 206
        },
        "id": "EhK8JDupWcPO",
        "outputId": "30994529-7370-44ef-8ce4-db6c403883c8"
      },
      "source": [
        "partidos.head()"
      ],
      "execution_count": null,
      "outputs": [
        {
          "output_type": "execute_result",
          "data": {
            "text/html": [
              "<div>\n",
              "<style scoped>\n",
              "    .dataframe tbody tr th:only-of-type {\n",
              "        vertical-align: middle;\n",
              "    }\n",
              "\n",
              "    .dataframe tbody tr th {\n",
              "        vertical-align: top;\n",
              "    }\n",
              "\n",
              "    .dataframe thead th {\n",
              "        text-align: right;\n",
              "    }\n",
              "</style>\n",
              "<table border=\"1\" class=\"dataframe\">\n",
              "  <thead>\n",
              "    <tr style=\"text-align: right;\">\n",
              "      <th></th>\n",
              "      <th>date</th>\n",
              "      <th>home_team</th>\n",
              "      <th>away_team</th>\n",
              "      <th>home_score</th>\n",
              "      <th>away_score</th>\n",
              "      <th>tournament</th>\n",
              "      <th>city</th>\n",
              "      <th>country</th>\n",
              "      <th>neutral</th>\n",
              "    </tr>\n",
              "  </thead>\n",
              "  <tbody>\n",
              "    <tr>\n",
              "      <th>0</th>\n",
              "      <td>1872-11-30</td>\n",
              "      <td>Scotland</td>\n",
              "      <td>England</td>\n",
              "      <td>0</td>\n",
              "      <td>0</td>\n",
              "      <td>Friendly</td>\n",
              "      <td>Glasgow</td>\n",
              "      <td>Scotland</td>\n",
              "      <td>False</td>\n",
              "    </tr>\n",
              "    <tr>\n",
              "      <th>1</th>\n",
              "      <td>1873-03-08</td>\n",
              "      <td>England</td>\n",
              "      <td>Scotland</td>\n",
              "      <td>4</td>\n",
              "      <td>2</td>\n",
              "      <td>Friendly</td>\n",
              "      <td>London</td>\n",
              "      <td>England</td>\n",
              "      <td>False</td>\n",
              "    </tr>\n",
              "    <tr>\n",
              "      <th>2</th>\n",
              "      <td>1874-03-07</td>\n",
              "      <td>Scotland</td>\n",
              "      <td>England</td>\n",
              "      <td>2</td>\n",
              "      <td>1</td>\n",
              "      <td>Friendly</td>\n",
              "      <td>Glasgow</td>\n",
              "      <td>Scotland</td>\n",
              "      <td>False</td>\n",
              "    </tr>\n",
              "    <tr>\n",
              "      <th>3</th>\n",
              "      <td>1875-03-06</td>\n",
              "      <td>England</td>\n",
              "      <td>Scotland</td>\n",
              "      <td>2</td>\n",
              "      <td>2</td>\n",
              "      <td>Friendly</td>\n",
              "      <td>London</td>\n",
              "      <td>England</td>\n",
              "      <td>False</td>\n",
              "    </tr>\n",
              "    <tr>\n",
              "      <th>4</th>\n",
              "      <td>1876-03-04</td>\n",
              "      <td>Scotland</td>\n",
              "      <td>England</td>\n",
              "      <td>3</td>\n",
              "      <td>0</td>\n",
              "      <td>Friendly</td>\n",
              "      <td>Glasgow</td>\n",
              "      <td>Scotland</td>\n",
              "      <td>False</td>\n",
              "    </tr>\n",
              "  </tbody>\n",
              "</table>\n",
              "</div>"
            ],
            "text/plain": [
              "         date home_team away_team  ...     city   country neutral\n",
              "0  1872-11-30  Scotland   England  ...  Glasgow  Scotland   False\n",
              "1  1873-03-08   England  Scotland  ...   London   England   False\n",
              "2  1874-03-07  Scotland   England  ...  Glasgow  Scotland   False\n",
              "3  1875-03-06   England  Scotland  ...   London   England   False\n",
              "4  1876-03-04  Scotland   England  ...  Glasgow  Scotland   False\n",
              "\n",
              "[5 rows x 9 columns]"
            ]
          },
          "metadata": {},
          "execution_count": 48
        }
      ]
    },
    {
      "cell_type": "code",
      "metadata": {
        "id": "4TZOmXWgWgrW",
        "colab": {
          "base_uri": "https://localhost:8080/",
          "height": 206
        },
        "outputId": "d2fd8a0b-14c1-419c-a631-81a7e0b969e8"
      },
      "source": [
        "puntajes.head()"
      ],
      "execution_count": null,
      "outputs": [
        {
          "output_type": "execute_result",
          "data": {
            "text/html": [
              "<div>\n",
              "<style scoped>\n",
              "    .dataframe tbody tr th:only-of-type {\n",
              "        vertical-align: middle;\n",
              "    }\n",
              "\n",
              "    .dataframe tbody tr th {\n",
              "        vertical-align: top;\n",
              "    }\n",
              "\n",
              "    .dataframe thead th {\n",
              "        text-align: right;\n",
              "    }\n",
              "</style>\n",
              "<table border=\"1\" class=\"dataframe\">\n",
              "  <thead>\n",
              "    <tr style=\"text-align: right;\">\n",
              "      <th></th>\n",
              "      <th>date</th>\n",
              "      <th>home_team</th>\n",
              "      <th>away_team</th>\n",
              "      <th>winner</th>\n",
              "    </tr>\n",
              "  </thead>\n",
              "  <tbody>\n",
              "    <tr>\n",
              "      <th>0</th>\n",
              "      <td>1967-08-22</td>\n",
              "      <td>India</td>\n",
              "      <td>Taiwan</td>\n",
              "      <td>Taiwan</td>\n",
              "    </tr>\n",
              "    <tr>\n",
              "      <th>1</th>\n",
              "      <td>1971-11-14</td>\n",
              "      <td>South Korea</td>\n",
              "      <td>Vietnam Republic</td>\n",
              "      <td>South Korea</td>\n",
              "    </tr>\n",
              "    <tr>\n",
              "      <th>2</th>\n",
              "      <td>1972-05-17</td>\n",
              "      <td>Thailand</td>\n",
              "      <td>South Korea</td>\n",
              "      <td>South Korea</td>\n",
              "    </tr>\n",
              "    <tr>\n",
              "      <th>3</th>\n",
              "      <td>1972-05-19</td>\n",
              "      <td>Thailand</td>\n",
              "      <td>Cambodia</td>\n",
              "      <td>Thailand</td>\n",
              "    </tr>\n",
              "    <tr>\n",
              "      <th>4</th>\n",
              "      <td>1973-07-26</td>\n",
              "      <td>Malaysia</td>\n",
              "      <td>Kuwait</td>\n",
              "      <td>Malaysia</td>\n",
              "    </tr>\n",
              "  </tbody>\n",
              "</table>\n",
              "</div>"
            ],
            "text/plain": [
              "         date    home_team         away_team       winner\n",
              "0  1967-08-22        India            Taiwan       Taiwan\n",
              "1  1971-11-14  South Korea  Vietnam Republic  South Korea\n",
              "2  1972-05-17     Thailand       South Korea  South Korea\n",
              "3  1972-05-19     Thailand          Cambodia     Thailand\n",
              "4  1973-07-26     Malaysia            Kuwait     Malaysia"
            ]
          },
          "metadata": {},
          "execution_count": 49
        }
      ]
    },
    {
      "cell_type": "markdown",
      "metadata": {
        "id": "8K8hHnKixT3H"
      },
      "source": [
        "A diferencia del anterior dataset, este último tiene los mismos datos pero con menos atributos."
      ]
    },
    {
      "cell_type": "markdown",
      "metadata": {
        "id": "OshHH9IGyHjL"
      },
      "source": [
        "# **PROCESAMIENTO DE DATOS**"
      ]
    },
    {
      "cell_type": "markdown",
      "metadata": {
        "id": "5bUhFbFPaLMF"
      },
      "source": [
        "1. Se le atribuye a cada país una etiqueta para facilitar su evaluación en los modelos de inferencia y clasificación."
      ]
    },
    {
      "cell_type": "code",
      "metadata": {
        "colab": {
          "base_uri": "https://localhost:8080/",
          "height": 363
        },
        "id": "qnj0N94CrLDB",
        "outputId": "e6e49739-02c1-4c9c-d29c-f945e176a22e"
      },
      "source": [
        "labels = pd.DataFrame()\n",
        "nombres = ['Argentina','Bolivia','Brazil','Chile','Colombia','Ecuador','Paraguay','Peru','Uruguay','Venezuela']\n",
        "etiquetas = [1,2,3,4,5,6,7,8,9,10]\n",
        "\n",
        "labels['Pais'] = nombres\n",
        "labels['ID'] = etiquetas\n",
        "labels"
      ],
      "execution_count": null,
      "outputs": [
        {
          "output_type": "execute_result",
          "data": {
            "text/html": [
              "<div>\n",
              "<style scoped>\n",
              "    .dataframe tbody tr th:only-of-type {\n",
              "        vertical-align: middle;\n",
              "    }\n",
              "\n",
              "    .dataframe tbody tr th {\n",
              "        vertical-align: top;\n",
              "    }\n",
              "\n",
              "    .dataframe thead th {\n",
              "        text-align: right;\n",
              "    }\n",
              "</style>\n",
              "<table border=\"1\" class=\"dataframe\">\n",
              "  <thead>\n",
              "    <tr style=\"text-align: right;\">\n",
              "      <th></th>\n",
              "      <th>Pais</th>\n",
              "      <th>ID</th>\n",
              "    </tr>\n",
              "  </thead>\n",
              "  <tbody>\n",
              "    <tr>\n",
              "      <th>0</th>\n",
              "      <td>Argentina</td>\n",
              "      <td>1</td>\n",
              "    </tr>\n",
              "    <tr>\n",
              "      <th>1</th>\n",
              "      <td>Bolivia</td>\n",
              "      <td>2</td>\n",
              "    </tr>\n",
              "    <tr>\n",
              "      <th>2</th>\n",
              "      <td>Brazil</td>\n",
              "      <td>3</td>\n",
              "    </tr>\n",
              "    <tr>\n",
              "      <th>3</th>\n",
              "      <td>Chile</td>\n",
              "      <td>4</td>\n",
              "    </tr>\n",
              "    <tr>\n",
              "      <th>4</th>\n",
              "      <td>Colombia</td>\n",
              "      <td>5</td>\n",
              "    </tr>\n",
              "    <tr>\n",
              "      <th>5</th>\n",
              "      <td>Ecuador</td>\n",
              "      <td>6</td>\n",
              "    </tr>\n",
              "    <tr>\n",
              "      <th>6</th>\n",
              "      <td>Paraguay</td>\n",
              "      <td>7</td>\n",
              "    </tr>\n",
              "    <tr>\n",
              "      <th>7</th>\n",
              "      <td>Peru</td>\n",
              "      <td>8</td>\n",
              "    </tr>\n",
              "    <tr>\n",
              "      <th>8</th>\n",
              "      <td>Uruguay</td>\n",
              "      <td>9</td>\n",
              "    </tr>\n",
              "    <tr>\n",
              "      <th>9</th>\n",
              "      <td>Venezuela</td>\n",
              "      <td>10</td>\n",
              "    </tr>\n",
              "  </tbody>\n",
              "</table>\n",
              "</div>"
            ],
            "text/plain": [
              "        Pais  ID\n",
              "0  Argentina   1\n",
              "1    Bolivia   2\n",
              "2     Brazil   3\n",
              "3      Chile   4\n",
              "4   Colombia   5\n",
              "5    Ecuador   6\n",
              "6   Paraguay   7\n",
              "7       Peru   8\n",
              "8    Uruguay   9\n",
              "9  Venezuela  10"
            ]
          },
          "metadata": {},
          "execution_count": 50
        }
      ]
    },
    {
      "cell_type": "markdown",
      "metadata": {
        "id": "bGh0CWrpfo0d"
      },
      "source": [
        "2. Se extraen todos los partidos de equipos Latinoamericanos que se disputaron desde el 2010 hasta la fecha previa de cada torneo."
      ]
    },
    {
      "cell_type": "code",
      "metadata": {
        "colab": {
          "base_uri": "https://localhost:8080/",
          "height": 206
        },
        "id": "ZDCP1CtzcQUJ",
        "outputId": "f0d67a6e-ee7b-45da-aa14-e02a9419ab4a"
      },
      "source": [
        "################# FILTRAR POR FECHAS #################################\n",
        "df = partidos\n",
        "grupos = partidos\n",
        "df['date'] = pd.to_datetime(df['date'])\n",
        "start_date = '2010-01-01'\n",
        "end_date = '2021-06-10'\n",
        "mask = (df['date'] > start_date) & (df['date'] <= end_date)\n",
        "df = df.loc[mask]\n",
        "\n",
        "def preparar_dataset(df):\n",
        "  \n",
        "  ################ FILTRAR POR EQUIPOS ####################################\n",
        "  equipos = ['Argentina','Bolivia','Brazil','Chile','Colombia','Ecuador','Paraguay','Peru','Uruguay','Venezuela']\n",
        "  df = df[df['home_team'].isin(equipos) & df['away_team'].isin(equipos) ]\n",
        "\n",
        "\n",
        "  ################ CODIFICAR CADA UNO DE LOS EQUIPOS ######################\n",
        "  df = df.replace(['Argentina','Bolivia','Brazil','Chile','Colombia','Ecuador','Paraguay','Peru','Uruguay','Venezuela','Spain','England','Saudi Arabia','United States','Australia','China PR','Canada','India','Netherlands','Qatar','South Africa','Israel'],[1,2,3,4,5,6,7,8,9,10,11,12,13,14,15,16,17,18,19,20,21,22])\n",
        "  df = df.replace([False,True],[0,1])\n",
        "\n",
        "  #df.home_team.replace(to_replace=dict(Argentina=1,Bolivia=2), inplace=True)\n",
        "  ################ CREAMOS UNA COLUMNA CON EL GANADOR DEL PARTIDO ###############  \n",
        "  condiciones = [df ['home_score']> df ['away_score'],\n",
        "                df ['home_score'] <df ['away_score']]  \n",
        "  opciones = ['1', '2']  \n",
        "  df ['result'] = np.select(condiciones, opciones, default= '0')\n",
        "  return df\n",
        "\n",
        "df = preparar_dataset(df)\n",
        "df.head()"
      ],
      "execution_count": null,
      "outputs": [
        {
          "output_type": "execute_result",
          "data": {
            "text/html": [
              "<div>\n",
              "<style scoped>\n",
              "    .dataframe tbody tr th:only-of-type {\n",
              "        vertical-align: middle;\n",
              "    }\n",
              "\n",
              "    .dataframe tbody tr th {\n",
              "        vertical-align: top;\n",
              "    }\n",
              "\n",
              "    .dataframe thead th {\n",
              "        text-align: right;\n",
              "    }\n",
              "</style>\n",
              "<table border=\"1\" class=\"dataframe\">\n",
              "  <thead>\n",
              "    <tr style=\"text-align: right;\">\n",
              "      <th></th>\n",
              "      <th>date</th>\n",
              "      <th>home_team</th>\n",
              "      <th>away_team</th>\n",
              "      <th>home_score</th>\n",
              "      <th>away_score</th>\n",
              "      <th>tournament</th>\n",
              "      <th>city</th>\n",
              "      <th>country</th>\n",
              "      <th>neutral</th>\n",
              "      <th>result</th>\n",
              "    </tr>\n",
              "  </thead>\n",
              "  <tbody>\n",
              "    <tr>\n",
              "      <th>32058</th>\n",
              "      <td>2010-03-31</td>\n",
              "      <td>4</td>\n",
              "      <td>10</td>\n",
              "      <td>0</td>\n",
              "      <td>0</td>\n",
              "      <td>Friendly</td>\n",
              "      <td>Temuco</td>\n",
              "      <td>4</td>\n",
              "      <td>0</td>\n",
              "      <td>0</td>\n",
              "    </tr>\n",
              "    <tr>\n",
              "      <th>32239</th>\n",
              "      <td>2010-06-28</td>\n",
              "      <td>3</td>\n",
              "      <td>4</td>\n",
              "      <td>3</td>\n",
              "      <td>0</td>\n",
              "      <td>FIFA World Cup</td>\n",
              "      <td>Johannesburg</td>\n",
              "      <td>21</td>\n",
              "      <td>1</td>\n",
              "      <td>1</td>\n",
              "    </tr>\n",
              "    <tr>\n",
              "      <th>32267</th>\n",
              "      <td>2010-08-11</td>\n",
              "      <td>2</td>\n",
              "      <td>5</td>\n",
              "      <td>1</td>\n",
              "      <td>1</td>\n",
              "      <td>Friendly</td>\n",
              "      <td>La Paz</td>\n",
              "      <td>2</td>\n",
              "      <td>0</td>\n",
              "      <td>0</td>\n",
              "    </tr>\n",
              "    <tr>\n",
              "      <th>32348</th>\n",
              "      <td>2010-09-03</td>\n",
              "      <td>10</td>\n",
              "      <td>5</td>\n",
              "      <td>0</td>\n",
              "      <td>2</td>\n",
              "      <td>Friendly</td>\n",
              "      <td>Puerto la Cruz</td>\n",
              "      <td>10</td>\n",
              "      <td>0</td>\n",
              "      <td>2</td>\n",
              "    </tr>\n",
              "    <tr>\n",
              "      <th>32414</th>\n",
              "      <td>2010-09-07</td>\n",
              "      <td>10</td>\n",
              "      <td>6</td>\n",
              "      <td>1</td>\n",
              "      <td>0</td>\n",
              "      <td>Friendly</td>\n",
              "      <td>Barquisimeto</td>\n",
              "      <td>10</td>\n",
              "      <td>0</td>\n",
              "      <td>1</td>\n",
              "    </tr>\n",
              "  </tbody>\n",
              "</table>\n",
              "</div>"
            ],
            "text/plain": [
              "            date  home_team  away_team  ...  country  neutral result\n",
              "32058 2010-03-31          4         10  ...        4        0      0\n",
              "32239 2010-06-28          3          4  ...       21        1      1\n",
              "32267 2010-08-11          2          5  ...        2        0      0\n",
              "32348 2010-09-03         10          5  ...       10        0      2\n",
              "32414 2010-09-07         10          6  ...       10        0      1\n",
              "\n",
              "[5 rows x 10 columns]"
            ]
          },
          "metadata": {},
          "execution_count": 51
        }
      ]
    },
    {
      "cell_type": "markdown",
      "metadata": {
        "id": "SPqe7sBnCDTo"
      },
      "source": [
        "3. Extraemos cada partido que se jugó en la Copa américa para comprobrar más adelante los resultados de nuestro proyecto."
      ]
    },
    {
      "cell_type": "markdown",
      "metadata": {
        "id": "JxNh1ZBvpIC5"
      },
      "source": [
        "*Fase de grupos*"
      ]
    },
    {
      "cell_type": "code",
      "metadata": {
        "colab": {
          "base_uri": "https://localhost:8080/",
          "height": 677
        },
        "id": "oksF-OySCHWo",
        "outputId": "58e83c0c-cc1e-443e-ab22-99238c1e811d"
      },
      "source": [
        "grupos_dataset = partidos\n",
        "grupos_dataset['date'] = pd.to_datetime(grupos_dataset['date'])\n",
        "start_date = '2021-06-12'\n",
        "end_date = '2021-06-30'\n",
        "mask = (grupos_dataset['date'] > start_date) & (grupos_dataset['date'] <= end_date)\n",
        "grupos_dataset = grupos_dataset.loc[mask]\n",
        "\n",
        "grupos_dataset = preparar_dataset(grupos_dataset)\n",
        "grupos_dataset"
      ],
      "execution_count": null,
      "outputs": [
        {
          "output_type": "execute_result",
          "data": {
            "text/html": [
              "<div>\n",
              "<style scoped>\n",
              "    .dataframe tbody tr th:only-of-type {\n",
              "        vertical-align: middle;\n",
              "    }\n",
              "\n",
              "    .dataframe tbody tr th {\n",
              "        vertical-align: top;\n",
              "    }\n",
              "\n",
              "    .dataframe thead th {\n",
              "        text-align: right;\n",
              "    }\n",
              "</style>\n",
              "<table border=\"1\" class=\"dataframe\">\n",
              "  <thead>\n",
              "    <tr style=\"text-align: right;\">\n",
              "      <th></th>\n",
              "      <th>date</th>\n",
              "      <th>home_team</th>\n",
              "      <th>away_team</th>\n",
              "      <th>home_score</th>\n",
              "      <th>away_score</th>\n",
              "      <th>tournament</th>\n",
              "      <th>city</th>\n",
              "      <th>country</th>\n",
              "      <th>neutral</th>\n",
              "      <th>result</th>\n",
              "    </tr>\n",
              "  </thead>\n",
              "  <tbody>\n",
              "    <tr>\n",
              "      <th>42315</th>\n",
              "      <td>2021-06-13</td>\n",
              "      <td>3</td>\n",
              "      <td>10</td>\n",
              "      <td>3</td>\n",
              "      <td>0</td>\n",
              "      <td>Copa América</td>\n",
              "      <td>Brasilia</td>\n",
              "      <td>3</td>\n",
              "      <td>0</td>\n",
              "      <td>1</td>\n",
              "    </tr>\n",
              "    <tr>\n",
              "      <th>42316</th>\n",
              "      <td>2021-06-13</td>\n",
              "      <td>5</td>\n",
              "      <td>6</td>\n",
              "      <td>1</td>\n",
              "      <td>0</td>\n",
              "      <td>Copa América</td>\n",
              "      <td>Cuiaba</td>\n",
              "      <td>3</td>\n",
              "      <td>1</td>\n",
              "      <td>1</td>\n",
              "    </tr>\n",
              "    <tr>\n",
              "      <th>42321</th>\n",
              "      <td>2021-06-14</td>\n",
              "      <td>1</td>\n",
              "      <td>4</td>\n",
              "      <td>1</td>\n",
              "      <td>1</td>\n",
              "      <td>Copa América</td>\n",
              "      <td>Rio de Janeiro</td>\n",
              "      <td>3</td>\n",
              "      <td>1</td>\n",
              "      <td>0</td>\n",
              "    </tr>\n",
              "    <tr>\n",
              "      <th>42322</th>\n",
              "      <td>2021-06-14</td>\n",
              "      <td>7</td>\n",
              "      <td>2</td>\n",
              "      <td>3</td>\n",
              "      <td>1</td>\n",
              "      <td>Copa América</td>\n",
              "      <td>Goiânia</td>\n",
              "      <td>3</td>\n",
              "      <td>1</td>\n",
              "      <td>1</td>\n",
              "    </tr>\n",
              "    <tr>\n",
              "      <th>42350</th>\n",
              "      <td>2021-06-17</td>\n",
              "      <td>5</td>\n",
              "      <td>10</td>\n",
              "      <td>0</td>\n",
              "      <td>0</td>\n",
              "      <td>Copa América</td>\n",
              "      <td>Goiânia</td>\n",
              "      <td>3</td>\n",
              "      <td>1</td>\n",
              "      <td>0</td>\n",
              "    </tr>\n",
              "    <tr>\n",
              "      <th>42351</th>\n",
              "      <td>2021-06-17</td>\n",
              "      <td>3</td>\n",
              "      <td>8</td>\n",
              "      <td>4</td>\n",
              "      <td>0</td>\n",
              "      <td>Copa América</td>\n",
              "      <td>Rio de Janeiro</td>\n",
              "      <td>3</td>\n",
              "      <td>0</td>\n",
              "      <td>1</td>\n",
              "    </tr>\n",
              "    <tr>\n",
              "      <th>42356</th>\n",
              "      <td>2021-06-18</td>\n",
              "      <td>4</td>\n",
              "      <td>2</td>\n",
              "      <td>1</td>\n",
              "      <td>0</td>\n",
              "      <td>Copa América</td>\n",
              "      <td>Cuiaba</td>\n",
              "      <td>3</td>\n",
              "      <td>1</td>\n",
              "      <td>1</td>\n",
              "    </tr>\n",
              "    <tr>\n",
              "      <th>42357</th>\n",
              "      <td>2021-06-18</td>\n",
              "      <td>1</td>\n",
              "      <td>9</td>\n",
              "      <td>1</td>\n",
              "      <td>0</td>\n",
              "      <td>Copa América</td>\n",
              "      <td>Brasilia</td>\n",
              "      <td>3</td>\n",
              "      <td>1</td>\n",
              "      <td>1</td>\n",
              "    </tr>\n",
              "    <tr>\n",
              "      <th>42364</th>\n",
              "      <td>2021-06-20</td>\n",
              "      <td>10</td>\n",
              "      <td>6</td>\n",
              "      <td>2</td>\n",
              "      <td>2</td>\n",
              "      <td>Copa América</td>\n",
              "      <td>Rio de Janeiro</td>\n",
              "      <td>3</td>\n",
              "      <td>1</td>\n",
              "      <td>0</td>\n",
              "    </tr>\n",
              "    <tr>\n",
              "      <th>42365</th>\n",
              "      <td>2021-06-20</td>\n",
              "      <td>5</td>\n",
              "      <td>8</td>\n",
              "      <td>1</td>\n",
              "      <td>2</td>\n",
              "      <td>Copa América</td>\n",
              "      <td>Goiânia</td>\n",
              "      <td>3</td>\n",
              "      <td>1</td>\n",
              "      <td>2</td>\n",
              "    </tr>\n",
              "    <tr>\n",
              "      <th>42371</th>\n",
              "      <td>2021-06-21</td>\n",
              "      <td>9</td>\n",
              "      <td>4</td>\n",
              "      <td>1</td>\n",
              "      <td>1</td>\n",
              "      <td>Copa América</td>\n",
              "      <td>Cuiaba</td>\n",
              "      <td>3</td>\n",
              "      <td>1</td>\n",
              "      <td>0</td>\n",
              "    </tr>\n",
              "    <tr>\n",
              "      <th>42372</th>\n",
              "      <td>2021-06-21</td>\n",
              "      <td>1</td>\n",
              "      <td>7</td>\n",
              "      <td>1</td>\n",
              "      <td>0</td>\n",
              "      <td>Copa América</td>\n",
              "      <td>Brasilia</td>\n",
              "      <td>3</td>\n",
              "      <td>1</td>\n",
              "      <td>1</td>\n",
              "    </tr>\n",
              "    <tr>\n",
              "      <th>42381</th>\n",
              "      <td>2021-06-23</td>\n",
              "      <td>6</td>\n",
              "      <td>8</td>\n",
              "      <td>2</td>\n",
              "      <td>2</td>\n",
              "      <td>Copa América</td>\n",
              "      <td>Goiânia</td>\n",
              "      <td>3</td>\n",
              "      <td>1</td>\n",
              "      <td>0</td>\n",
              "    </tr>\n",
              "    <tr>\n",
              "      <th>42382</th>\n",
              "      <td>2021-06-23</td>\n",
              "      <td>3</td>\n",
              "      <td>5</td>\n",
              "      <td>2</td>\n",
              "      <td>1</td>\n",
              "      <td>Copa América</td>\n",
              "      <td>Rio de Janeiro</td>\n",
              "      <td>3</td>\n",
              "      <td>0</td>\n",
              "      <td>1</td>\n",
              "    </tr>\n",
              "    <tr>\n",
              "      <th>42384</th>\n",
              "      <td>2021-06-24</td>\n",
              "      <td>2</td>\n",
              "      <td>9</td>\n",
              "      <td>0</td>\n",
              "      <td>2</td>\n",
              "      <td>Copa América</td>\n",
              "      <td>Cuiaba</td>\n",
              "      <td>3</td>\n",
              "      <td>1</td>\n",
              "      <td>2</td>\n",
              "    </tr>\n",
              "    <tr>\n",
              "      <th>42385</th>\n",
              "      <td>2021-06-24</td>\n",
              "      <td>4</td>\n",
              "      <td>7</td>\n",
              "      <td>0</td>\n",
              "      <td>2</td>\n",
              "      <td>Copa América</td>\n",
              "      <td>Brasilia</td>\n",
              "      <td>3</td>\n",
              "      <td>1</td>\n",
              "      <td>2</td>\n",
              "    </tr>\n",
              "    <tr>\n",
              "      <th>42392</th>\n",
              "      <td>2021-06-27</td>\n",
              "      <td>3</td>\n",
              "      <td>6</td>\n",
              "      <td>1</td>\n",
              "      <td>1</td>\n",
              "      <td>Copa América</td>\n",
              "      <td>Goiânia</td>\n",
              "      <td>3</td>\n",
              "      <td>0</td>\n",
              "      <td>0</td>\n",
              "    </tr>\n",
              "    <tr>\n",
              "      <th>42393</th>\n",
              "      <td>2021-06-27</td>\n",
              "      <td>10</td>\n",
              "      <td>8</td>\n",
              "      <td>0</td>\n",
              "      <td>1</td>\n",
              "      <td>Copa América</td>\n",
              "      <td>Brasilia</td>\n",
              "      <td>3</td>\n",
              "      <td>1</td>\n",
              "      <td>2</td>\n",
              "    </tr>\n",
              "    <tr>\n",
              "      <th>42397</th>\n",
              "      <td>2021-06-28</td>\n",
              "      <td>1</td>\n",
              "      <td>2</td>\n",
              "      <td>4</td>\n",
              "      <td>1</td>\n",
              "      <td>Copa América</td>\n",
              "      <td>Cuiaba</td>\n",
              "      <td>3</td>\n",
              "      <td>1</td>\n",
              "      <td>1</td>\n",
              "    </tr>\n",
              "    <tr>\n",
              "      <th>42398</th>\n",
              "      <td>2021-06-28</td>\n",
              "      <td>9</td>\n",
              "      <td>7</td>\n",
              "      <td>1</td>\n",
              "      <td>0</td>\n",
              "      <td>Copa América</td>\n",
              "      <td>Rio de Janeiro</td>\n",
              "      <td>3</td>\n",
              "      <td>1</td>\n",
              "      <td>1</td>\n",
              "    </tr>\n",
              "  </tbody>\n",
              "</table>\n",
              "</div>"
            ],
            "text/plain": [
              "            date  home_team  away_team  ...  country  neutral result\n",
              "42315 2021-06-13          3         10  ...        3        0      1\n",
              "42316 2021-06-13          5          6  ...        3        1      1\n",
              "42321 2021-06-14          1          4  ...        3        1      0\n",
              "42322 2021-06-14          7          2  ...        3        1      1\n",
              "42350 2021-06-17          5         10  ...        3        1      0\n",
              "42351 2021-06-17          3          8  ...        3        0      1\n",
              "42356 2021-06-18          4          2  ...        3        1      1\n",
              "42357 2021-06-18          1          9  ...        3        1      1\n",
              "42364 2021-06-20         10          6  ...        3        1      0\n",
              "42365 2021-06-20          5          8  ...        3        1      2\n",
              "42371 2021-06-21          9          4  ...        3        1      0\n",
              "42372 2021-06-21          1          7  ...        3        1      1\n",
              "42381 2021-06-23          6          8  ...        3        1      0\n",
              "42382 2021-06-23          3          5  ...        3        0      1\n",
              "42384 2021-06-24          2          9  ...        3        1      2\n",
              "42385 2021-06-24          4          7  ...        3        1      2\n",
              "42392 2021-06-27          3          6  ...        3        0      0\n",
              "42393 2021-06-27         10          8  ...        3        1      2\n",
              "42397 2021-06-28          1          2  ...        3        1      1\n",
              "42398 2021-06-28          9          7  ...        3        1      1\n",
              "\n",
              "[20 rows x 10 columns]"
            ]
          },
          "metadata": {},
          "execution_count": 52
        }
      ]
    },
    {
      "cell_type": "markdown",
      "metadata": {
        "id": "C80eakISuOIF"
      },
      "source": [
        "*Cuartos de finales*"
      ]
    },
    {
      "cell_type": "code",
      "metadata": {
        "colab": {
          "base_uri": "https://localhost:8080/",
          "height": 175
        },
        "id": "iH0WY6tWuSpa",
        "outputId": "c53682e8-f069-44e1-8ac5-47643589b7db"
      },
      "source": [
        "cuartos_dataset = partidos\n",
        "cuartos_dataset['date'] = pd.to_datetime(cuartos_dataset['date'])\n",
        "start_date = '2021-06-30'\n",
        "end_date = '2021-07-04'\n",
        "mask = (cuartos_dataset['date'] > start_date) & (cuartos_dataset['date'] <= end_date)\n",
        "cuartos_dataset = cuartos_dataset.loc[mask]\n",
        "\n",
        "cuartos_dataset = preparar_dataset(cuartos_dataset)\n",
        "cuartos_dataset"
      ],
      "execution_count": null,
      "outputs": [
        {
          "output_type": "execute_result",
          "data": {
            "text/html": [
              "<div>\n",
              "<style scoped>\n",
              "    .dataframe tbody tr th:only-of-type {\n",
              "        vertical-align: middle;\n",
              "    }\n",
              "\n",
              "    .dataframe tbody tr th {\n",
              "        vertical-align: top;\n",
              "    }\n",
              "\n",
              "    .dataframe thead th {\n",
              "        text-align: right;\n",
              "    }\n",
              "</style>\n",
              "<table border=\"1\" class=\"dataframe\">\n",
              "  <thead>\n",
              "    <tr style=\"text-align: right;\">\n",
              "      <th></th>\n",
              "      <th>date</th>\n",
              "      <th>home_team</th>\n",
              "      <th>away_team</th>\n",
              "      <th>home_score</th>\n",
              "      <th>away_score</th>\n",
              "      <th>tournament</th>\n",
              "      <th>city</th>\n",
              "      <th>country</th>\n",
              "      <th>neutral</th>\n",
              "      <th>result</th>\n",
              "    </tr>\n",
              "  </thead>\n",
              "  <tbody>\n",
              "    <tr>\n",
              "      <th>42404</th>\n",
              "      <td>2021-07-02</td>\n",
              "      <td>8</td>\n",
              "      <td>7</td>\n",
              "      <td>3</td>\n",
              "      <td>3</td>\n",
              "      <td>Copa América</td>\n",
              "      <td>Goiânia</td>\n",
              "      <td>3</td>\n",
              "      <td>1</td>\n",
              "      <td>0</td>\n",
              "    </tr>\n",
              "    <tr>\n",
              "      <th>42405</th>\n",
              "      <td>2021-07-02</td>\n",
              "      <td>3</td>\n",
              "      <td>4</td>\n",
              "      <td>1</td>\n",
              "      <td>0</td>\n",
              "      <td>Copa América</td>\n",
              "      <td>Rio de Janeiro</td>\n",
              "      <td>3</td>\n",
              "      <td>0</td>\n",
              "      <td>1</td>\n",
              "    </tr>\n",
              "    <tr>\n",
              "      <th>42412</th>\n",
              "      <td>2021-07-03</td>\n",
              "      <td>9</td>\n",
              "      <td>5</td>\n",
              "      <td>0</td>\n",
              "      <td>0</td>\n",
              "      <td>Copa América</td>\n",
              "      <td>Brasília</td>\n",
              "      <td>3</td>\n",
              "      <td>1</td>\n",
              "      <td>0</td>\n",
              "    </tr>\n",
              "    <tr>\n",
              "      <th>42413</th>\n",
              "      <td>2021-07-03</td>\n",
              "      <td>1</td>\n",
              "      <td>6</td>\n",
              "      <td>3</td>\n",
              "      <td>0</td>\n",
              "      <td>Copa América</td>\n",
              "      <td>Goiânia</td>\n",
              "      <td>3</td>\n",
              "      <td>0</td>\n",
              "      <td>1</td>\n",
              "    </tr>\n",
              "  </tbody>\n",
              "</table>\n",
              "</div>"
            ],
            "text/plain": [
              "            date  home_team  away_team  ...  country  neutral result\n",
              "42404 2021-07-02          8          7  ...        3        1      0\n",
              "42405 2021-07-02          3          4  ...        3        0      1\n",
              "42412 2021-07-03          9          5  ...        3        1      0\n",
              "42413 2021-07-03          1          6  ...        3        0      1\n",
              "\n",
              "[4 rows x 10 columns]"
            ]
          },
          "metadata": {},
          "execution_count": 53
        }
      ]
    },
    {
      "cell_type": "markdown",
      "metadata": {
        "id": "8_mX_-e71R2f"
      },
      "source": [
        "*Semifinales*"
      ]
    },
    {
      "cell_type": "code",
      "metadata": {
        "colab": {
          "base_uri": "https://localhost:8080/",
          "height": 112
        },
        "id": "F-K2UHeL4XP3",
        "outputId": "0aec4f6b-7fd7-4f0e-f3c0-0ed1dd405101"
      },
      "source": [
        "smf_dataset = partidos\n",
        "smf_dataset['date'] = pd.to_datetime(smf_dataset['date'])\n",
        "start_date = '2021-07-04'\n",
        "end_date = '2021-07-08'\n",
        "mask = (smf_dataset['date'] > start_date) & (smf_dataset['date'] <= end_date)\n",
        "smf_dataset = smf_dataset.loc[mask]\n",
        "\n",
        "smf_dataset = preparar_dataset(smf_dataset)\n",
        "smf_dataset"
      ],
      "execution_count": null,
      "outputs": [
        {
          "output_type": "execute_result",
          "data": {
            "text/html": [
              "<div>\n",
              "<style scoped>\n",
              "    .dataframe tbody tr th:only-of-type {\n",
              "        vertical-align: middle;\n",
              "    }\n",
              "\n",
              "    .dataframe tbody tr th {\n",
              "        vertical-align: top;\n",
              "    }\n",
              "\n",
              "    .dataframe thead th {\n",
              "        text-align: right;\n",
              "    }\n",
              "</style>\n",
              "<table border=\"1\" class=\"dataframe\">\n",
              "  <thead>\n",
              "    <tr style=\"text-align: right;\">\n",
              "      <th></th>\n",
              "      <th>date</th>\n",
              "      <th>home_team</th>\n",
              "      <th>away_team</th>\n",
              "      <th>home_score</th>\n",
              "      <th>away_score</th>\n",
              "      <th>tournament</th>\n",
              "      <th>city</th>\n",
              "      <th>country</th>\n",
              "      <th>neutral</th>\n",
              "      <th>result</th>\n",
              "    </tr>\n",
              "  </thead>\n",
              "  <tbody>\n",
              "    <tr>\n",
              "      <th>42418</th>\n",
              "      <td>2021-07-05</td>\n",
              "      <td>3</td>\n",
              "      <td>8</td>\n",
              "      <td>1</td>\n",
              "      <td>0</td>\n",
              "      <td>Copa América</td>\n",
              "      <td>Rio de Janeiro</td>\n",
              "      <td>3</td>\n",
              "      <td>0</td>\n",
              "      <td>1</td>\n",
              "    </tr>\n",
              "    <tr>\n",
              "      <th>42419</th>\n",
              "      <td>2021-07-06</td>\n",
              "      <td>1</td>\n",
              "      <td>5</td>\n",
              "      <td>1</td>\n",
              "      <td>1</td>\n",
              "      <td>Copa América</td>\n",
              "      <td>Brasília</td>\n",
              "      <td>3</td>\n",
              "      <td>1</td>\n",
              "      <td>0</td>\n",
              "    </tr>\n",
              "  </tbody>\n",
              "</table>\n",
              "</div>"
            ],
            "text/plain": [
              "            date  home_team  away_team  ...  country  neutral result\n",
              "42418 2021-07-05          3          8  ...        3        0      1\n",
              "42419 2021-07-06          1          5  ...        3        1      0\n",
              "\n",
              "[2 rows x 10 columns]"
            ]
          },
          "metadata": {},
          "execution_count": 54
        }
      ]
    },
    {
      "cell_type": "markdown",
      "metadata": {
        "id": "urwq1cQj1Xck"
      },
      "source": [
        "*Finales*"
      ]
    },
    {
      "cell_type": "code",
      "metadata": {
        "colab": {
          "base_uri": "https://localhost:8080/",
          "height": 112
        },
        "id": "rnWwOui56CDj",
        "outputId": "8c4166b7-0297-488e-a42c-2c2d56252bb6"
      },
      "source": [
        "f_dataset = partidos\n",
        "f_dataset['date'] = pd.to_datetime(f_dataset['date'])\n",
        "start_date = '2021-07-08'\n",
        "end_date = '2021-07-10'\n",
        "mask = (f_dataset['date'] > start_date) & (f_dataset['date'] <= end_date)\n",
        "f_dataset = f_dataset.loc[mask]\n",
        "\n",
        "f_dataset = preparar_dataset(f_dataset)\n",
        "f_dataset"
      ],
      "execution_count": null,
      "outputs": [
        {
          "output_type": "execute_result",
          "data": {
            "text/html": [
              "<div>\n",
              "<style scoped>\n",
              "    .dataframe tbody tr th:only-of-type {\n",
              "        vertical-align: middle;\n",
              "    }\n",
              "\n",
              "    .dataframe tbody tr th {\n",
              "        vertical-align: top;\n",
              "    }\n",
              "\n",
              "    .dataframe thead th {\n",
              "        text-align: right;\n",
              "    }\n",
              "</style>\n",
              "<table border=\"1\" class=\"dataframe\">\n",
              "  <thead>\n",
              "    <tr style=\"text-align: right;\">\n",
              "      <th></th>\n",
              "      <th>date</th>\n",
              "      <th>home_team</th>\n",
              "      <th>away_team</th>\n",
              "      <th>home_score</th>\n",
              "      <th>away_score</th>\n",
              "      <th>tournament</th>\n",
              "      <th>city</th>\n",
              "      <th>country</th>\n",
              "      <th>neutral</th>\n",
              "      <th>result</th>\n",
              "    </tr>\n",
              "  </thead>\n",
              "  <tbody>\n",
              "    <tr>\n",
              "      <th>42431</th>\n",
              "      <td>2021-07-09</td>\n",
              "      <td>8</td>\n",
              "      <td>5</td>\n",
              "      <td>2</td>\n",
              "      <td>3</td>\n",
              "      <td>Copa América</td>\n",
              "      <td>Brasília</td>\n",
              "      <td>3</td>\n",
              "      <td>1</td>\n",
              "      <td>2</td>\n",
              "    </tr>\n",
              "    <tr>\n",
              "      <th>42434</th>\n",
              "      <td>2021-07-10</td>\n",
              "      <td>3</td>\n",
              "      <td>1</td>\n",
              "      <td>0</td>\n",
              "      <td>1</td>\n",
              "      <td>Copa América</td>\n",
              "      <td>Rio de Janeiro</td>\n",
              "      <td>3</td>\n",
              "      <td>0</td>\n",
              "      <td>2</td>\n",
              "    </tr>\n",
              "  </tbody>\n",
              "</table>\n",
              "</div>"
            ],
            "text/plain": [
              "            date  home_team  away_team  ...  country  neutral result\n",
              "42431 2021-07-09          8          5  ...        3        1      2\n",
              "42434 2021-07-10          3          1  ...        3        0      2\n",
              "\n",
              "[2 rows x 10 columns]"
            ]
          },
          "metadata": {},
          "execution_count": 55
        }
      ]
    },
    {
      "cell_type": "markdown",
      "metadata": {
        "id": "U-MuxNqEvjvw"
      },
      "source": [
        "# ENTRENAMIENTO DE DATOS\n",
        "\n",
        "Con ayuda del estimador SVR (Support Vector Regressor) y algunos clasificadores como el SVC (Support Vector Classifier) y Random Forest, se espera conocer la precisión de nuestra inferencia dentro de cada encuentro a partir del *Registro Histórico de partidos ganados y perdidos según el país* o el *Número de goles promedio* de cada uno de estos."
      ]
    },
    {
      "cell_type": "markdown",
      "metadata": {
        "id": "GLbetOzN1qZB"
      },
      "source": [
        "**Metodo 1:** Realizar una *Regresión* según el número de goles "
      ]
    },
    {
      "cell_type": "markdown",
      "metadata": {
        "id": "jn1kiLKq3s4u"
      },
      "source": [
        "1. Separamos los datos que vamos a utilizar para el entrenamiento y testeo"
      ]
    },
    {
      "cell_type": "code",
      "metadata": {
        "id": "X3CdxWkpvm51"
      },
      "source": [
        "datos = df.values[:,:]\n",
        "n = int(len(datos)*0.8)\n",
        "\n",
        "X_train = datos[:n,[1,2,7,8]]\n",
        "X_test = datos[n:,[1,2,7,8]]\n",
        "y_train = datos[:n,[3,4]]    \n",
        "y_test = datos[n:,[3,4]]\n"
      ],
      "execution_count": null,
      "outputs": []
    },
    {
      "cell_type": "markdown",
      "metadata": {
        "id": "659MltzM3611"
      },
      "source": [
        "2. Aplicamos el modelo de regresión SVR (Support Vector Regressor) para conocer su presición de acuerdo a los resultados reales"
      ]
    },
    {
      "cell_type": "code",
      "metadata": {
        "id": "VggBM4z-vmZv"
      },
      "source": [
        "\n",
        "def regresion_puntajes(df):\n",
        "  datos = df.values[:,:]\n",
        "  n = int(len(datos)*0.8)\n",
        "\n",
        "  X_train = datos[:n,[1,2,7,8]]\n",
        "  X_test = datos[n:,[1,2,7,8]]\n",
        "  y_train = datos[:n,[3,4]]    \n",
        "  y_test = datos[n:,[3,4]]\n",
        "  scores = []\n",
        "  estimators = []\n",
        "  kernels = ['linear', 'poly', 'rbf']\n",
        "  for k in kernels:  \n",
        "    clf = MultiOutputRegressor(SVR(kernel=k),2).fit(X_train, y_train)\n",
        "    prediction = clf.predict(X_test)\n",
        "    scores.append(mean_squared_error(y_test,prediction))\n",
        "    estimators.append(clf)\n",
        "  #print('MSE = ',scores)\n",
        "  return estimators"
      ],
      "execution_count": null,
      "outputs": []
    },
    {
      "cell_type": "markdown",
      "metadata": {
        "id": "DstJu_HO4hYc"
      },
      "source": [
        "3. Como la regresión devuelve un numero decimal de goles, le hacemos un \"post-procesamiento de datos\" en donde basado en un cálculo se pondera el puntaje de ese partido"
      ]
    },
    {
      "cell_type": "code",
      "metadata": {
        "id": "u2Z7gf_upklu"
      },
      "source": [
        "def puntaje_regresion(prediction):\n",
        "  ejemplo = np.power(prediction,2) \n",
        "  puntaje_local = int((ejemplo[0,0] - 0.5)*1.15)\n",
        "  puntaje_visitante = int((ejemplo[0,1] - 0.5)*2)\n",
        "  #print(\"predict al 2: \", ejemplo)\n",
        "  print(\"Local: \", int(puntaje_local), \" Puntaje visitante: \", int(puntaje_visitante))  \n",
        "  if puntaje_local > puntaje_visitante:\n",
        "    return 1\n",
        "  elif puntaje_local < puntaje_visitante:\n",
        "    return 2\n",
        "  elif puntaje_local == puntaje_visitante:\n",
        "    return 0"
      ],
      "execution_count": null,
      "outputs": []
    },
    {
      "cell_type": "markdown",
      "metadata": {
        "id": "Vqwntk4_4nzy"
      },
      "source": [
        "4. Ahora, obteniendo los puntajes realizamos la comparación ente los distintos tipos de kernel usados"
      ]
    },
    {
      "cell_type": "code",
      "metadata": {
        "colab": {
          "base_uri": "https://localhost:8080/"
        },
        "id": "d6c_DEPQQLJB",
        "outputId": "9210516f-98a3-4570-8a2e-f96b17948fb0"
      },
      "source": [
        "estimators = regresion_puntajes(df)\n",
        "\n",
        "ejes = []\n",
        "for i in range(3):\n",
        "  puntajes = []\n",
        "  predicciones = estimators[i].predict(X_test)\n",
        "  for prediccion in predicciones:\n",
        "    puntajes.append(puntaje_regresion([prediccion]))\n",
        "  ejes.append(puntajes)\n",
        "  print(\"\\nKernel # \",i+2)"
      ],
      "execution_count": null,
      "outputs": [
        {
          "output_type": "stream",
          "name": "stdout",
          "text": [
            "Local:  0  Puntaje visitante:  0\n",
            "Local:  0  Puntaje visitante:  0\n",
            "Local:  1  Puntaje visitante:  0\n",
            "Local:  2  Puntaje visitante:  0\n",
            "Local:  0  Puntaje visitante:  0\n",
            "Local:  1  Puntaje visitante:  0\n",
            "Local:  0  Puntaje visitante:  0\n",
            "Local:  1  Puntaje visitante:  0\n",
            "Local:  4  Puntaje visitante:  0\n",
            "Local:  1  Puntaje visitante:  0\n",
            "Local:  0  Puntaje visitante:  0\n",
            "Local:  2  Puntaje visitante:  0\n",
            "Local:  0  Puntaje visitante:  0\n",
            "Local:  1  Puntaje visitante:  0\n",
            "Local:  1  Puntaje visitante:  0\n",
            "Local:  3  Puntaje visitante:  0\n",
            "Local:  0  Puntaje visitante:  0\n",
            "Local:  0  Puntaje visitante:  0\n",
            "Local:  0  Puntaje visitante:  0\n",
            "Local:  2  Puntaje visitante:  0\n",
            "Local:  1  Puntaje visitante:  0\n",
            "Local:  1  Puntaje visitante:  0\n",
            "Local:  3  Puntaje visitante:  0\n",
            "Local:  0  Puntaje visitante:  0\n",
            "Local:  0  Puntaje visitante:  0\n",
            "Local:  0  Puntaje visitante:  0\n",
            "Local:  0  Puntaje visitante:  0\n",
            "Local:  0  Puntaje visitante:  0\n",
            "Local:  1  Puntaje visitante:  0\n",
            "Local:  0  Puntaje visitante:  0\n",
            "Local:  1  Puntaje visitante:  0\n",
            "Local:  0  Puntaje visitante:  0\n",
            "Local:  0  Puntaje visitante:  0\n",
            "Local:  2  Puntaje visitante:  0\n",
            "Local:  0  Puntaje visitante:  0\n",
            "Local:  0  Puntaje visitante:  0\n",
            "Local:  0  Puntaje visitante:  0\n",
            "Local:  2  Puntaje visitante:  0\n",
            "Local:  1  Puntaje visitante:  0\n",
            "Local:  4  Puntaje visitante:  0\n",
            "Local:  3  Puntaje visitante:  0\n",
            "Local:  2  Puntaje visitante:  0\n",
            "Local:  2  Puntaje visitante:  0\n",
            "Local:  2  Puntaje visitante:  0\n",
            "Local:  1  Puntaje visitante:  0\n",
            "Local:  1  Puntaje visitante:  0\n",
            "Local:  2  Puntaje visitante:  0\n",
            "Local:  3  Puntaje visitante:  0\n",
            "Local:  4  Puntaje visitante:  0\n",
            "Local:  3  Puntaje visitante:  0\n",
            "Local:  3  Puntaje visitante:  0\n",
            "Local:  4  Puntaje visitante:  0\n",
            "Local:  2  Puntaje visitante:  0\n",
            "Local:  0  Puntaje visitante:  0\n",
            "Local:  1  Puntaje visitante:  0\n",
            "Local:  1  Puntaje visitante:  0\n",
            "Local:  0  Puntaje visitante:  0\n",
            "Local:  2  Puntaje visitante:  0\n",
            "Local:  1  Puntaje visitante:  0\n",
            "Local:  4  Puntaje visitante:  0\n",
            "Local:  1  Puntaje visitante:  0\n",
            "Local:  3  Puntaje visitante:  0\n",
            "Local:  1  Puntaje visitante:  0\n",
            "Local:  3  Puntaje visitante:  0\n",
            "Local:  2  Puntaje visitante:  0\n",
            "Local:  1  Puntaje visitante:  0\n",
            "Local:  1  Puntaje visitante:  0\n",
            "Local:  1  Puntaje visitante:  0\n",
            "Local:  2  Puntaje visitante:  0\n",
            "\n",
            "Kernel #  2\n",
            "Local:  0  Puntaje visitante:  0\n",
            "Local:  0  Puntaje visitante:  1\n",
            "Local:  1  Puntaje visitante:  0\n",
            "Local:  1  Puntaje visitante:  0\n",
            "Local:  0  Puntaje visitante:  0\n",
            "Local:  1  Puntaje visitante:  0\n",
            "Local:  0  Puntaje visitante:  0\n",
            "Local:  2  Puntaje visitante:  1\n",
            "Local:  5  Puntaje visitante:  0\n",
            "Local:  2  Puntaje visitante:  1\n",
            "Local:  1  Puntaje visitante:  0\n",
            "Local:  2  Puntaje visitante:  1\n",
            "Local:  1  Puntaje visitante:  0\n",
            "Local:  1  Puntaje visitante:  0\n",
            "Local:  1  Puntaje visitante:  0\n",
            "Local:  3  Puntaje visitante:  0\n",
            "Local:  1  Puntaje visitante:  0\n",
            "Local:  1  Puntaje visitante:  0\n",
            "Local:  0  Puntaje visitante:  0\n",
            "Local:  2  Puntaje visitante:  0\n",
            "Local:  1  Puntaje visitante:  0\n",
            "Local:  1  Puntaje visitante:  0\n",
            "Local:  3  Puntaje visitante:  0\n",
            "Local:  0  Puntaje visitante:  0\n",
            "Local:  0  Puntaje visitante:  0\n",
            "Local:  0  Puntaje visitante:  0\n",
            "Local:  0  Puntaje visitante:  0\n",
            "Local:  0  Puntaje visitante:  0\n",
            "Local:  1  Puntaje visitante:  0\n",
            "Local:  2  Puntaje visitante:  2\n",
            "Local:  0  Puntaje visitante:  0\n",
            "Local:  1  Puntaje visitante:  0\n",
            "Local:  4  Puntaje visitante:  1\n",
            "Local:  2  Puntaje visitante:  0\n",
            "Local:  0  Puntaje visitante:  0\n",
            "Local:  0  Puntaje visitante:  0\n",
            "Local:  0  Puntaje visitante:  0\n",
            "Local:  2  Puntaje visitante:  0\n",
            "Local:  1  Puntaje visitante:  1\n",
            "Local:  2  Puntaje visitante:  0\n",
            "Local:  5  Puntaje visitante:  0\n",
            "Local:  1  Puntaje visitante:  0\n",
            "Local:  2  Puntaje visitante:  0\n",
            "Local:  3  Puntaje visitante:  0\n",
            "Local:  0  Puntaje visitante:  0\n",
            "Local:  1  Puntaje visitante:  1\n",
            "Local:  2  Puntaje visitante:  0\n",
            "Local:  2  Puntaje visitante:  0\n",
            "Local:  2  Puntaje visitante:  0\n",
            "Local:  4  Puntaje visitante:  0\n",
            "Local:  3  Puntaje visitante:  0\n",
            "Local:  5  Puntaje visitante:  0\n",
            "Local:  1  Puntaje visitante:  0\n",
            "Local:  0  Puntaje visitante:  1\n",
            "Local:  2  Puntaje visitante:  1\n",
            "Local:  1  Puntaje visitante:  1\n",
            "Local:  1  Puntaje visitante:  1\n",
            "Local:  1  Puntaje visitante:  0\n",
            "Local:  1  Puntaje visitante:  0\n",
            "Local:  5  Puntaje visitante:  0\n",
            "Local:  0  Puntaje visitante:  0\n",
            "Local:  2  Puntaje visitante:  0\n",
            "Local:  1  Puntaje visitante:  0\n",
            "Local:  2  Puntaje visitante:  0\n",
            "Local:  2  Puntaje visitante:  0\n",
            "Local:  2  Puntaje visitante:  0\n",
            "Local:  0  Puntaje visitante:  0\n",
            "Local:  1  Puntaje visitante:  0\n",
            "Local:  1  Puntaje visitante:  0\n",
            "\n",
            "Kernel #  3\n",
            "Local:  0  Puntaje visitante:  0\n",
            "Local:  0  Puntaje visitante:  0\n",
            "Local:  1  Puntaje visitante:  0\n",
            "Local:  1  Puntaje visitante:  0\n",
            "Local:  0  Puntaje visitante:  0\n",
            "Local:  1  Puntaje visitante:  0\n",
            "Local:  0  Puntaje visitante:  0\n",
            "Local:  2  Puntaje visitante:  0\n",
            "Local:  3  Puntaje visitante:  0\n",
            "Local:  1  Puntaje visitante:  0\n",
            "Local:  1  Puntaje visitante:  0\n",
            "Local:  2  Puntaje visitante:  0\n",
            "Local:  1  Puntaje visitante:  0\n",
            "Local:  2  Puntaje visitante:  0\n",
            "Local:  2  Puntaje visitante:  0\n",
            "Local:  3  Puntaje visitante:  0\n",
            "Local:  1  Puntaje visitante:  0\n",
            "Local:  0  Puntaje visitante:  1\n",
            "Local:  0  Puntaje visitante:  0\n",
            "Local:  1  Puntaje visitante:  0\n",
            "Local:  2  Puntaje visitante:  0\n",
            "Local:  1  Puntaje visitante:  0\n",
            "Local:  3  Puntaje visitante:  0\n",
            "Local:  0  Puntaje visitante:  0\n",
            "Local:  0  Puntaje visitante:  0\n",
            "Local:  0  Puntaje visitante:  0\n",
            "Local:  0  Puntaje visitante:  0\n",
            "Local:  0  Puntaje visitante:  0\n",
            "Local:  1  Puntaje visitante:  0\n",
            "Local:  1  Puntaje visitante:  1\n",
            "Local:  0  Puntaje visitante:  0\n",
            "Local:  1  Puntaje visitante:  0\n",
            "Local:  1  Puntaje visitante:  0\n",
            "Local:  1  Puntaje visitante:  0\n",
            "Local:  0  Puntaje visitante:  0\n",
            "Local:  0  Puntaje visitante:  0\n",
            "Local:  0  Puntaje visitante:  0\n",
            "Local:  2  Puntaje visitante:  0\n",
            "Local:  0  Puntaje visitante:  0\n",
            "Local:  1  Puntaje visitante:  0\n",
            "Local:  4  Puntaje visitante:  0\n",
            "Local:  1  Puntaje visitante:  0\n",
            "Local:  1  Puntaje visitante:  0\n",
            "Local:  3  Puntaje visitante:  0\n",
            "Local:  0  Puntaje visitante:  0\n",
            "Local:  1  Puntaje visitante:  1\n",
            "Local:  2  Puntaje visitante:  0\n",
            "Local:  1  Puntaje visitante:  0\n",
            "Local:  1  Puntaje visitante:  0\n",
            "Local:  4  Puntaje visitante:  0\n",
            "Local:  3  Puntaje visitante:  0\n",
            "Local:  3  Puntaje visitante:  0\n",
            "Local:  2  Puntaje visitante:  0\n",
            "Local:  0  Puntaje visitante:  1\n",
            "Local:  1  Puntaje visitante:  1\n",
            "Local:  1  Puntaje visitante:  1\n",
            "Local:  1  Puntaje visitante:  1\n",
            "Local:  1  Puntaje visitante:  0\n",
            "Local:  1  Puntaje visitante:  0\n",
            "Local:  2  Puntaje visitante:  0\n",
            "Local:  0  Puntaje visitante:  0\n",
            "Local:  0  Puntaje visitante:  0\n",
            "Local:  1  Puntaje visitante:  0\n",
            "Local:  2  Puntaje visitante:  0\n",
            "Local:  3  Puntaje visitante:  0\n",
            "Local:  1  Puntaje visitante:  0\n",
            "Local:  0  Puntaje visitante:  0\n",
            "Local:  1  Puntaje visitante:  0\n",
            "Local:  1  Puntaje visitante:  0\n",
            "\n",
            "Kernel #  4\n"
          ]
        }
      ]
    },
    {
      "cell_type": "markdown",
      "metadata": {
        "id": "chFHKYAg4wkH"
      },
      "source": [
        "5. Se realiza un análisis con los puntajes con el fin de observar cual es el mejor tipo de kernel"
      ]
    },
    {
      "cell_type": "code",
      "metadata": {
        "id": "Vc1Dm2_VMr7R",
        "colab": {
          "base_uri": "https://localhost:8080/"
        },
        "outputId": "bc2aa694-6bd2-423e-ad38-d1681bee2b71"
      },
      "source": [
        "ejes = np.array(ejes)\n",
        "ejes = np.transpose(ejes)\n",
        "\n",
        "metrics = []\n",
        "#metrics_accuracy = []\n",
        "for i in range(3):\n",
        "  metrics.append(mean_squared_error(ejes[:,i],df.values[n:,9]))\n",
        "  #metrics_accuracy.append(accuracy_score(ejes[:,i], df.values[n:,9]))\n",
        "#print(metrics_accuracy)\n",
        "metrics\n"
      ],
      "execution_count": null,
      "outputs": [
        {
          "output_type": "execute_result",
          "data": {
            "text/plain": [
              "[0.9420289855072463, 0.927536231884058, 0.8840579710144928]"
            ]
          },
          "metadata": {},
          "execution_count": 60
        }
      ]
    },
    {
      "cell_type": "code",
      "metadata": {
        "colab": {
          "base_uri": "https://localhost:8080/"
        },
        "id": "kM9IblXPilKL",
        "outputId": "753d2759-1de5-4f00-d766-d07ffc216c80"
      },
      "source": [
        "comparison = []\n",
        "for i in range(3):\n",
        "  comparison.append(abs(ejes[:,i]-df.values[n:,9].astype(int)))\n",
        "comparison = np.array(comparison)\n",
        "comparison = np.transpose(comparison)\n",
        "metrica_acc = []\n",
        "for i in range(3):\n",
        "  contador = 0\n",
        "  for j in range(len(comparison)):\n",
        "    if comparison[j,i] == 0:\n",
        "      contador += 1\n",
        "  metrica_acc.append(contador)\n",
        "metrica_acc = np.array(metrica_acc)/69\n",
        "metrica_acc\n",
        "\n"
      ],
      "execution_count": null,
      "outputs": [
        {
          "output_type": "execute_result",
          "data": {
            "text/plain": [
              "array([0.4057971 , 0.37681159, 0.42028986])"
            ]
          },
          "metadata": {},
          "execution_count": 61
        }
      ]
    },
    {
      "cell_type": "code",
      "metadata": {
        "colab": {
          "base_uri": "https://localhost:8080/",
          "height": 354
        },
        "id": "bp7j8_FjwXhf",
        "outputId": "81c14a33-8ce5-4361-9977-8686f4b69a35"
      },
      "source": [
        "fig = plt.figure()\n",
        "ax = fig.add_axes([0,0,1,1])\n",
        "kernels = ['linear', 'poly', 'rbf']\n",
        "kernels = kernels\n",
        "MSE = metrics\n",
        "ax.bar(kernels,MSE)\n",
        "ax.set_ylabel('MSE')\n",
        "ax.set_title('MSE basado basado el kernel usado')\n",
        "plt.ylim([0.7, 1])\n",
        "plt.show()"
      ],
      "execution_count": null,
      "outputs": [
        {
          "output_type": "display_data",
          "data": {
            "image/png": "[encoded data removed]",
            "text/plain": [
              "<Figure size 432x288 with 1 Axes>"
            ]
          },
          "metadata": {}
        }
      ]
    },
    {
      "cell_type": "markdown",
      "metadata": {
        "id": "XHaZBug6ECGU"
      },
      "source": [
        "Debido a la transformación que se tiene que realizar sobre los datos inferidos es posible obtener unos resultados tengan una baja precisión, asi que se aborda el problema de otro modo, hacer regresión esta vez al ganador del partido, sin importar su puntaje\n"
      ]
    },
    {
      "cell_type": "markdown",
      "metadata": {
        "id": "-mvyTZlZRTKW"
      },
      "source": [
        "En este caso, aunque todos los kernels usados tienen un desempeño similar, el rbf ofrece un mejor desempeño al resto"
      ]
    },
    {
      "cell_type": "markdown",
      "metadata": {
        "id": "8_S7qqdF6OEJ"
      },
      "source": [
        "**Metodo 2:** Regresión al Registro Histórico de los Ganadores en cada partido disputado"
      ]
    },
    {
      "cell_type": "code",
      "metadata": {
        "id": "I8arePUKEABe",
        "colab": {
          "base_uri": "https://localhost:8080/",
          "height": 72
        },
        "outputId": "27a68829-ff3f-4174-a851-6d5305d32467"
      },
      "source": [
        "datos = df.values[:,:]\n",
        "n = int(len(datos)*0.8)\n",
        "\n",
        "X_train = datos[:n,[1,2,7,8]]\n",
        "X_test = datos[n:,[1,2,7,8]]\n",
        "y_train = datos[:n,9]    \n",
        "y_test = datos[n:,9]\n",
        "scores = []\n",
        "estimators = []\n",
        "kernels = ['linear', 'poly', 'rbf']\n",
        "for k in kernels:    \n",
        "  est = SVR(kernel=k)\n",
        "  est.fit(X_train, y_train)\n",
        "  prediction = est.predict(X_test)\n",
        "  scores.append(mean_squared_error(y_test,prediction))\n",
        "  estimators.append(est)\n",
        "\n",
        "print(scores)\n",
        "\n",
        "prediction = est.predict([[4,1,1,0]])\n",
        "print(prediction)# Argentina vs Venezuela en Argentina en un partido no neutral\n",
        "\n",
        "\n",
        "def puntaje_regresion_resultado(prediction):\n",
        "  if prediction <= 0.85:\n",
        "    return 0  \n",
        "  elif prediction >= 1.15:\n",
        "    return 2\n",
        "  else:\n",
        "    return 1\n",
        "\n",
        "def convertir_prediccion(valor):\n",
        "  resultados = ['Empate','Gana Local','Gana visitante']\n",
        "  return resultados[valor]\n",
        "\n",
        "v = puntaje_regresion_resultado(prediction)\n",
        "convertir_prediccion(v)"
      ],
      "execution_count": null,
      "outputs": [
        {
          "output_type": "stream",
          "name": "stdout",
          "text": [
            "[0.6651685395304188, 0.66376917926059, 0.6680991133994054]\n",
            "[0.92575675]\n"
          ]
        },
        {
          "output_type": "execute_result",
          "data": {
            "application/vnd.google.colaboratory.intrinsic+json": {
              "type": "string"
            },
            "text/plain": [
              "'Gana Local'"
            ]
          },
          "metadata": {},
          "execution_count": 63
        }
      ]
    },
    {
      "cell_type": "markdown",
      "metadata": {
        "id": "5xSM07gDoqmw"
      },
      "source": [
        "Evaluamos la precisión del método midiendo su precisión mediante el MSE"
      ]
    },
    {
      "cell_type": "code",
      "metadata": {
        "colab": {
          "base_uri": "https://localhost:8080/"
        },
        "id": "n5u9YGZSsC2R",
        "outputId": "e83636ac-dd31-4b32-e4e6-c5e92e1276db"
      },
      "source": [
        "ejes = []\n",
        "for i in range(3):\n",
        "  puntajes = []\n",
        "  predicciones = estimators[i].predict(X_test)\n",
        "  for prediccion in predicciones:\n",
        "    puntajes.append(puntaje_regresion_resultado(prediccion))\n",
        "  ejes.append(puntajes)\n",
        "ejes = np.array(ejes)\n",
        "ejes.shape\n",
        "  "
      ],
      "execution_count": null,
      "outputs": [
        {
          "output_type": "execute_result",
          "data": {
            "text/plain": [
              "(3, 69)"
            ]
          },
          "metadata": {},
          "execution_count": 64
        }
      ]
    },
    {
      "cell_type": "code",
      "metadata": {
        "colab": {
          "base_uri": "https://localhost:8080/"
        },
        "id": "U3fFwxKaskqf",
        "outputId": "52c90dac-776c-440f-ab7f-c80ddda4abac"
      },
      "source": [
        "ejes = np.array(ejes)\n",
        "ejes = np.transpose(ejes)\n",
        "\n",
        "metrics2 = []\n",
        "#metrics_accuracy = []\n",
        "for i in range(3):\n",
        "  metrics2.append(mean_squared_error(ejes[:,i],df.values[n:,9]))\n",
        "  #metrics_accuracy.append(accuracy_score(ejes[:,i], df.values[n:,9]))\n",
        "#print(metrics_accuracy)\n",
        "metrics2\n"
      ],
      "execution_count": null,
      "outputs": [
        {
          "output_type": "execute_result",
          "data": {
            "text/plain": [
              "[0.6521739130434783, 0.7246376811594203, 0.782608695652174]"
            ]
          },
          "metadata": {},
          "execution_count": 65
        }
      ]
    },
    {
      "cell_type": "code",
      "metadata": {
        "colab": {
          "base_uri": "https://localhost:8080/"
        },
        "id": "wzEljNwrlD34",
        "outputId": "d7346c73-141d-4fe0-e71a-33c964bd3c12"
      },
      "source": [
        "comparison2 = []\n",
        "for i in range(3):\n",
        "  comparison2.append(abs(ejes[:,i]-df.values[n:,9].astype(int)))\n",
        "comparison2 = np.array(comparison2)\n",
        "comparison2 = np.transpose(comparison2)\n",
        "metrica_acc2 = []\n",
        "for i in range(3):\n",
        "  contador = 0\n",
        "  for j in range(len(comparison2)):\n",
        "    if comparison2[j,i] == 0:\n",
        "      contador += 1\n",
        "  metrica_acc2.append(contador)\n",
        "metrica_acc2 = np.array(metrica_acc2)/69\n",
        "metrica_acc2\n",
        "\n"
      ],
      "execution_count": null,
      "outputs": [
        {
          "output_type": "execute_result",
          "data": {
            "text/plain": [
              "array([0.34782609, 0.36231884, 0.34782609])"
            ]
          },
          "metadata": {},
          "execution_count": 66
        }
      ]
    },
    {
      "cell_type": "code",
      "metadata": {
        "colab": {
          "base_uri": "https://localhost:8080/",
          "height": 354
        },
        "id": "6Zqj42531T6z",
        "outputId": "848d7cd2-9f12-40a9-b176-e26287cc4962"
      },
      "source": [
        "fig = plt.figure()\n",
        "ax = fig.add_axes([0,0,1,1])\n",
        "kernels = ['linear', 'poly', 'rbf']\n",
        "kernels = kernels\n",
        "MSE = metrics2\n",
        "ax.bar(kernels,MSE)\n",
        "ax.set_ylabel('MSE')\n",
        "ax.set_title('MSE basado en el kernel usado')\n",
        "plt.ylim([0.5, 0.8])\n",
        "plt.show()"
      ],
      "execution_count": null,
      "outputs": [
        {
          "output_type": "display_data",
          "data": {
            "image/png": "[encoded data removed]",
            "text/plain": [
              "<Figure size 432x288 with 1 Axes>"
            ]
          },
          "metadata": {}
        }
      ]
    },
    {
      "cell_type": "markdown",
      "metadata": {
        "id": "8T4GhVZIRguq"
      },
      "source": [
        "Para este caso se ve que mediante un kernel lineal se obtienen las mejores regresiones. Además se ve que mediante este método se obtiene el mejor valor de mse."
      ]
    },
    {
      "cell_type": "code",
      "metadata": {
        "colab": {
          "base_uri": "https://localhost:8080/",
          "height": 293
        },
        "id": "DNa8EgIk1esq",
        "outputId": "c3dcdaf1-c4dc-4410-b2e0-762312f32c90"
      },
      "source": [
        "\n",
        "kernels = ['linear', 'poly', 'rbf']\n",
        "MSE1 = metrics\n",
        "MSE2 = metrics2\n",
        "f, ((ax1, ax2)) = plt.subplots(1, 2)\n",
        "\n",
        "ax1.bar(kernels,MSE1)\n",
        "ax2.bar(kernels,MSE2)\n",
        "ax1.set_ylabel('MSE')\n",
        "ax2.set_ylabel('MSE')\n",
        "ax2.set_xlabel('Kernel')\n",
        "ax2.set_xlabel('Kernel')\n",
        "ax1.set_title('Regresión al resultado')\n",
        "ax2.set_title('Regresión al ganador')\n",
        "ax1.set_ylim([0.5, 1])\n",
        "ax2.set_ylim([0.5, 1])\n",
        "\n",
        "plt.tight_layout()\n",
        "plt.show()"
      ],
      "execution_count": null,
      "outputs": [
        {
          "output_type": "display_data",
          "data": {
            "image/png": "[encoded data removed]",
            "text/plain": [
              "<Figure size 432x288 with 2 Axes>"
            ]
          },
          "metadata": {}
        }
      ]
    },
    {
      "cell_type": "code",
      "metadata": {
        "colab": {
          "base_uri": "https://localhost:8080/",
          "height": 365
        },
        "id": "g8NlcuMmoAeS",
        "outputId": "0f3d7c2c-5556-4fb3-c134-058ee22c2b4a"
      },
      "source": [
        "kernels = ['linear', 'poly', 'rbf']\n",
        "MSE1 = metrica_acc\n",
        "MSE2 = metrica_acc2\n",
        "f, ((ax1, ax2)) = plt.subplots(1, 2)\n",
        "\n",
        "ax1.bar(kernels,MSE1)\n",
        "ax2.bar(kernels,MSE2)\n",
        "ax1.set_ylabel('Precisión')\n",
        "ax2.set_ylabel('Precisión')\n",
        "ax2.set_xlabel('Kernel')\n",
        "ax2.set_xlabel('Kernel')\n",
        "ax1.set_title('Regresión al resultado')\n",
        "ax2.set_title('Regresión al ganador')\n",
        "ax1.set_ylim([0.25, 0.5])\n",
        "ax2.set_ylim([0.25, 0.5])\n",
        "f.set_figwidth(10)\n",
        "f.set_figheight(5)\n",
        "\n",
        "plt.tight_layout()\n",
        "plt.show()"
      ],
      "execution_count": null,
      "outputs": [
        {
          "output_type": "display_data",
          "data": {
            "image/png": "[encoded data removed]",
            "text/plain": [
              "<Figure size 720x360 with 2 Axes>"
            ]
          },
          "metadata": {}
        }
      ]
    },
    {
      "cell_type": "markdown",
      "metadata": {
        "id": "yT9Tc9acgJjm"
      },
      "source": [
        "# Diseño de Torneos\n",
        "\n",
        "Una vez realizada la Regresión, diseñamos nuestro propio torneo de la Copa América 2021 según los equipos preestablecidos para jugar cada encuentro"
      ]
    },
    {
      "cell_type": "markdown",
      "metadata": {
        "id": "Xxz8-mzogPFc"
      },
      "source": [
        "*Fase de grupos*"
      ]
    },
    {
      "cell_type": "code",
      "metadata": {
        "id": "yxyq5rDabAkJ"
      },
      "source": [
        "grupos = pd.DataFrame()\n",
        "\n",
        "equipos_grupoA = [1,9,7,4,2]\n",
        "equipos_grupoB = [3,8,5,6,10]\n",
        "\n",
        "grupos['Equipo'] = [1,2,3,4,5,6,7,8,9,10]\n",
        "grupos['Puntos'] = [0,0,0,0,0,0,0,0,0,0]"
      ],
      "execution_count": null,
      "outputs": []
    },
    {
      "cell_type": "markdown",
      "metadata": {
        "id": "iIYgaDla85zO"
      },
      "source": [
        "Utilizamos el modelo con los mejores resultados para realizar las predicciones de los equipos ganadores"
      ]
    },
    {
      "cell_type": "markdown",
      "metadata": {
        "id": "OMYaA_1v9pME"
      },
      "source": [
        "Realizamos la fase de grupos"
      ]
    },
    {
      "cell_type": "code",
      "metadata": {
        "id": "c91U6lSeq60C"
      },
      "source": [
        "def fase_de_grupos(grupos):\n",
        "  datos = grupos.values[:,:]  \n",
        "  n = int(len(datos)*0.8)\n",
        "  \n",
        "  X_validation = datos[:,[1,2,7,8]]\n",
        "  ground_truth = datos[:,[3,4]]      \n",
        "  estimadores = regresion_puntajes(df)\n",
        "  predicciones = estimadores[1].predict(X_validation)         \n",
        "  return predicciones"
      ],
      "execution_count": null,
      "outputs": []
    },
    {
      "cell_type": "markdown",
      "metadata": {
        "id": "6KB_6k3J9vae"
      },
      "source": [
        "Obtenemos los puntajes para cada uno de los partidos en la fase de grupos"
      ]
    },
    {
      "cell_type": "code",
      "metadata": {
        "id": "MVAzdr7zEZC1",
        "colab": {
          "base_uri": "https://localhost:8080/"
        },
        "outputId": "5d0b7522-7ffb-4614-aeb7-8b3fa2737d7e"
      },
      "source": [
        "predicciones = fase_de_grupos(grupos_dataset)\n",
        "puntajes = []\n",
        "for prediccion in predicciones:\n",
        "  puntajes.append(puntaje_regresion([prediccion]))"
      ],
      "execution_count": null,
      "outputs": [
        {
          "output_type": "stream",
          "name": "stdout",
          "text": [
            "Local:  5  Puntaje visitante:  0\n",
            "Local:  1  Puntaje visitante:  0\n",
            "Local:  1  Puntaje visitante:  0\n",
            "Local:  1  Puntaje visitante:  0\n",
            "Local:  1  Puntaje visitante:  0\n",
            "Local:  3  Puntaje visitante:  0\n",
            "Local:  1  Puntaje visitante:  0\n",
            "Local:  3  Puntaje visitante:  1\n",
            "Local:  0  Puntaje visitante:  0\n",
            "Local:  1  Puntaje visitante:  0\n",
            "Local:  0  Puntaje visitante:  0\n",
            "Local:  2  Puntaje visitante:  1\n",
            "Local:  1  Puntaje visitante:  0\n",
            "Local:  2  Puntaje visitante:  0\n",
            "Local:  2  Puntaje visitante:  1\n",
            "Local:  1  Puntaje visitante:  0\n",
            "Local:  2  Puntaje visitante:  0\n",
            "Local:  0  Puntaje visitante:  0\n",
            "Local:  1  Puntaje visitante:  0\n",
            "Local:  0  Puntaje visitante:  0\n"
          ]
        }
      ]
    },
    {
      "cell_type": "markdown",
      "metadata": {
        "id": "B5WdEg8R9yXV"
      },
      "source": [
        "Ahora, repetimos el proceso para predecir los partidos, pero esta vez se usan los datos de la fase eliminatoria del torneo"
      ]
    },
    {
      "cell_type": "code",
      "metadata": {
        "id": "rIGvVK8kwOzQ",
        "colab": {
          "base_uri": "https://localhost:8080/"
        },
        "outputId": "cdbfb222-6d14-4bf5-92de-a5b24ef6c092"
      },
      "source": [
        "datos = cuartos_dataset.values[:,:]\n",
        "X_validation = datos[:,[1,2,7,8]]\n",
        "ground_truth = datos[:,[3,4]]      \n",
        "estimadores = regresion_puntajes(df)\n",
        "#predicciones = estimadores[1].predict(X_validation)     \n",
        "print(predicciones.shape)\n",
        "#dar_puntos([predicciones],grupos.values[:,1],grupos.values[:,2])  \n",
        "\n",
        "predicciones = fase_de_grupos(cuartos_dataset)\n",
        "puntajes = []\n",
        "for prediccion in predicciones:\n",
        "  puntajes.append(puntaje_regresion([prediccion]))\n",
        "puntajes"
      ],
      "execution_count": null,
      "outputs": [
        {
          "output_type": "stream",
          "name": "stdout",
          "text": [
            "(20, 2)\n",
            "Local:  0  Puntaje visitante:  0\n",
            "Local:  2  Puntaje visitante:  0\n",
            "Local:  0  Puntaje visitante:  0\n",
            "Local:  3  Puntaje visitante:  0\n"
          ]
        },
        {
          "output_type": "execute_result",
          "data": {
            "text/plain": [
              "[0, 1, 0, 1]"
            ]
          },
          "metadata": {},
          "execution_count": 73
        }
      ]
    },
    {
      "cell_type": "markdown",
      "metadata": {
        "id": "Z6I4YVEt2zPK"
      },
      "source": [
        "*Como se registraron empates realizamos penales, con un 50% de probabilidad para cada equipo* "
      ]
    },
    {
      "cell_type": "code",
      "metadata": {
        "id": "Ek4ncPAU2cYB",
        "colab": {
          "base_uri": "https://localhost:8080/"
        },
        "outputId": "766ad8e8-48bf-432c-caa6-d85520772354"
      },
      "source": [
        "from numpy import random\n",
        "\n",
        "# Porcentaje del 50/50 para este tipo de partidos\n",
        "\n",
        "x = random.randint(100)\n",
        "if x > 50:\n",
        "  print(\"gana Colombia sisi colombia\")  \n",
        "else:\n",
        "  print(\"gana uruguay trsute\")\n",
        "x = random.randint(100)\n",
        "if x > 50:\n",
        "  print(\"gana Peru XD\")  \n",
        "else:\n",
        "  print(\"gana Brasil siuu\")\n"
      ],
      "execution_count": null,
      "outputs": [
        {
          "output_type": "stream",
          "name": "stdout",
          "text": [
            "gana uruguay trsute\n",
            "gana Brasil siuu\n"
          ]
        }
      ]
    },
    {
      "cell_type": "code",
      "metadata": {
        "id": "Jkzw5rRE6l0g",
        "colab": {
          "base_uri": "https://localhost:8080/"
        },
        "outputId": "2a414b4d-43e7-45fc-c070-69317c8db6ef"
      },
      "source": [
        "x = random.randint(100)\n",
        "if x > 50:\n",
        "  print(\"gana Colombia sisi colombia\")  \n",
        "else:\n",
        "  print(\"gana Peru no le saben a los penales\")"
      ],
      "execution_count": null,
      "outputs": [
        {
          "output_type": "stream",
          "name": "stdout",
          "text": [
            "gana Colombia sisi colombia\n"
          ]
        }
      ]
    },
    {
      "cell_type": "markdown",
      "metadata": {
        "id": "Ue_G-oYu4O3U"
      },
      "source": [
        "*Semifinales:* Se realiza el mismo proceso"
      ]
    },
    {
      "cell_type": "code",
      "metadata": {
        "id": "BeYFO9g53qaI",
        "colab": {
          "base_uri": "https://localhost:8080/"
        },
        "outputId": "3228e6e5-d237-48d1-bbc4-3ef1a03cb13c"
      },
      "source": [
        "datos = smf_dataset.values[:,:]\n",
        "X_validation = datos[:,[1,2,7,8]]\n",
        "ground_truth = datos[:,[3,4]]      \n",
        "estimadores = regresion_puntajes(df)\n",
        "\n",
        "predicciones = fase_de_grupos(smf_dataset)\n",
        "puntajes = []\n",
        "for prediccion in predicciones:\n",
        "  puntajes.append(puntaje_regresion([prediccion]))\n",
        "puntajes"
      ],
      "execution_count": null,
      "outputs": [
        {
          "output_type": "stream",
          "name": "stdout",
          "text": [
            "Local:  3  Puntaje visitante:  0\n",
            "Local:  1  Puntaje visitante:  0\n"
          ]
        },
        {
          "output_type": "execute_result",
          "data": {
            "text/plain": [
              "[1, 1]"
            ]
          },
          "metadata": {},
          "execution_count": 76
        }
      ]
    },
    {
      "cell_type": "markdown",
      "metadata": {
        "id": "6piHLQjDfFzd"
      },
      "source": [
        "Se obtiene como ganador Argentina y Brasil"
      ]
    },
    {
      "cell_type": "markdown",
      "metadata": {
        "id": "ZqtQ-cqC8PG9"
      },
      "source": [
        "*Finales*"
      ]
    },
    {
      "cell_type": "code",
      "metadata": {
        "id": "MRMiNJea6YdQ",
        "colab": {
          "base_uri": "https://localhost:8080/"
        },
        "outputId": "ef6175e9-77a1-44db-c80e-b65dfb1fddf0"
      },
      "source": [
        "datos = f_dataset.values[:,:]\n",
        "X_validation = datos[:,[1,2,7,8]]\n",
        "ground_truth = datos[:,[3,4]]      \n",
        "estimadores = regresion_puntajes(df)\n",
        "#predicciones = estimadores[1].predict(X_validation)     \n",
        "print(predicciones.shape)\n",
        "#dar_puntos([predicciones],grupos.values[:,1],grupos.values[:,2])  \n",
        "\n",
        "predicciones = fase_de_grupos(f_dataset)\n",
        "puntajes = []\n",
        "for prediccion in predicciones:\n",
        "  puntajes.append(puntaje_regresion([prediccion]))\n",
        "puntajes"
      ],
      "execution_count": null,
      "outputs": [
        {
          "output_type": "stream",
          "name": "stdout",
          "text": [
            "(2, 2)\n",
            "Local:  0  Puntaje visitante:  0\n",
            "Local:  2  Puntaje visitante:  0\n"
          ]
        },
        {
          "output_type": "execute_result",
          "data": {
            "text/plain": [
              "[0, 1]"
            ]
          },
          "metadata": {},
          "execution_count": 77
        }
      ]
    },
    {
      "cell_type": "markdown",
      "metadata": {
        "id": "kanAQzQUfTer"
      },
      "source": [
        "Brasil fue estimado como ganador del torneo y Colombia como ganadora del tercer puesto"
      ]
    },
    {
      "cell_type": "markdown",
      "metadata": {
        "id": "qbMV1x3c_yrt"
      },
      "source": [
        "##Ahora probemos hacer una estimación usando clasificadores"
      ]
    },
    {
      "cell_type": "markdown",
      "metadata": {
        "id": "RYEE8F_SAxXQ"
      },
      "source": [
        "La intuición basada en hacer regresión a los resultados de cada partido podría verse como clasificar un partido entre victoria, derrota o empate, por este motivo, abordamos el mismo problema usando clasificación.\n",
        "\n",
        "Usando SVC"
      ]
    },
    {
      "cell_type": "code",
      "metadata": {
        "id": "CYYXsGcpQlGd"
      },
      "source": [
        "def clasificacion_puntajes(df):\n",
        "  datos = df.values[:,:]\n",
        "  n = int(len(datos)*0.8)\n",
        "\n",
        "  X_train = datos[:n,[1,2,7,8]]\n",
        "  X_test = datos[n:,[1,2,7,8]]\n",
        "  y_train = datos[:n,9]    \n",
        "  y_test = datos[n:,9]\n",
        "  scores = []\n",
        "  estimatorsS = []\n",
        "  kernels = ['linear', 'poly', 'rbf']\n",
        "  for k in kernels:  \n",
        "    clf = SVC(kernel=k).fit(X_train, y_train)\n",
        "    prediction = clf.predict(X_test)\n",
        "    scores.append(mean_squared_error(y_test,prediction))\n",
        "    estimatorsS.append(clf)\n",
        "  #print('MSE = ',scores)\n",
        "  return estimatorsS"
      ],
      "execution_count": null,
      "outputs": []
    },
    {
      "cell_type": "code",
      "metadata": {
        "colab": {
          "base_uri": "https://localhost:8080/"
        },
        "id": "S97FecTDRdOS",
        "outputId": "de2e5531-a4f1-4dba-9333-307f2a3bcd78"
      },
      "source": [
        "estimatorss = clasificacion_puntajes(df)\n",
        "y_test = df.values[n:,9]\n",
        "\n",
        "ejess = []\n",
        "for i in range(3):  \n",
        "  predicciones = estimatorss[i].predict(X_test)\n",
        "  ejess.append(accuracy_score(predicciones, y_test))  \n",
        "\n",
        "ejess\n"
      ],
      "execution_count": null,
      "outputs": [
        {
          "output_type": "execute_result",
          "data": {
            "text/plain": [
              "[0.34782608695652173, 0.3333333333333333, 0.34782608695652173]"
            ]
          },
          "metadata": {},
          "execution_count": 79
        }
      ]
    },
    {
      "cell_type": "code",
      "metadata": {
        "colab": {
          "base_uri": "https://localhost:8080/"
        },
        "id": "4O8H_9zimK9v",
        "outputId": "efcfc951-c5ea-4d58-e31b-2489ce6964d8"
      },
      "source": [
        "ejess"
      ],
      "execution_count": null,
      "outputs": [
        {
          "output_type": "execute_result",
          "data": {
            "text/plain": [
              "[0.34782608695652173, 0.3333333333333333, 0.34782608695652173]"
            ]
          },
          "metadata": {},
          "execution_count": 80
        }
      ]
    },
    {
      "cell_type": "markdown",
      "metadata": {
        "id": "KJ9pqjnTAzSq"
      },
      "source": [
        "Usando Random Forest"
      ]
    },
    {
      "cell_type": "code",
      "metadata": {
        "colab": {
          "base_uri": "https://localhost:8080/"
        },
        "id": "HhDmAIdZdoq3",
        "outputId": "345ab45d-90d0-4976-901e-7bef0f44980a"
      },
      "source": [
        "datos = df.values[:,:]\n",
        "n = int(len(datos)*0.8)\n",
        "\n",
        "X_train = datos[:n,[1,2,7,8]]\n",
        "X_test = datos[n:,[1,2,7,8]]\n",
        "y_train = datos[:n,9]    \n",
        "y_test = datos[n:,9]\n",
        "scores = []\n",
        "estimatorss = []\n",
        "rows = []\n",
        "depth = [20,25,50,100]\n",
        "trees = [10,50,100,250]\n",
        "for d in depth:\n",
        "  estimatorss = []\n",
        "  for tree in trees:\n",
        "    estimator = RandomForestClassifier(max_depth=d,criterion='entropy', n_estimators=tree)\n",
        "    estimator.fit(X_train, y_train)\n",
        "    estimatorss.append(estimator.score(X_test, y_test))          \n",
        "  rows.append(estimatorss)\n",
        "rows\n"
      ],
      "execution_count": null,
      "outputs": [
        {
          "output_type": "execute_result",
          "data": {
            "text/plain": [
              "[[0.42028985507246375,\n",
              "  0.463768115942029,\n",
              "  0.43478260869565216,\n",
              "  0.42028985507246375],\n",
              " [0.463768115942029,\n",
              "  0.4492753623188406,\n",
              "  0.43478260869565216,\n",
              "  0.4492753623188406],\n",
              " [0.5072463768115942,\n",
              "  0.391304347826087,\n",
              "  0.42028985507246375,\n",
              "  0.463768115942029],\n",
              " [0.37681159420289856,\n",
              "  0.4492753623188406,\n",
              "  0.4492753623188406,\n",
              "  0.4782608695652174]]"
            ]
          },
          "metadata": {},
          "execution_count": 81
        }
      ]
    },
    {
      "cell_type": "code",
      "metadata": {
        "colab": {
          "base_uri": "https://localhost:8080/",
          "height": 365
        },
        "id": "69hUrUc4gtbg",
        "outputId": "019bc858-17f6-4b5e-fc27-a9ee41a0a1e1"
      },
      "source": [
        "kernels = ['linear', 'poly', 'rbf']\n",
        "param = ['20,10', '25,50', '50,100','100,10']\n",
        "best = np.array([0.4927, 0.4782, 0.4782, 0.4928])\n",
        "ejess = np.array(ejess)\n",
        "\n",
        "acc1 = ejess\n",
        "acc2 = best\n",
        "f, (ax1, ax2) = plt.subplots(1, 2)\n",
        "\n",
        "ax1.bar(kernels,acc1)\n",
        "ax2.bar(param,acc2)\n",
        "ax1.set_ylabel('Precisión')\n",
        "ax2.set_ylabel('Precisión')\n",
        "ax1.set_title('SVC')\n",
        "ax2.set_title('Random Forest')\n",
        "ax1.set_ylim([0.25, 0.5])\n",
        "ax2.set_ylim([0.25, 0.5])\n",
        "ax2.set_xlabel('Profundidad, estimadores')\n",
        "ax1.set_xlabel('Kernel')\n",
        "\n",
        "f.set_figwidth(10)\n",
        "f.set_figheight(5)\n",
        "\n",
        "plt.tight_layout()\n",
        "plt.show()"
      ],
      "execution_count": null,
      "outputs": [
        {
          "output_type": "display_data",
          "data": {
            "image/png": "[encoded data removed]",
            "text/plain": [
              "<Figure size 720x360 with 2 Axes>"
            ]
          },
          "metadata": {}
        }
      ]
    },
    {
      "cell_type": "markdown",
      "metadata": {
        "id": "-v0rXLktsjHI"
      },
      "source": [
        "Se observa que el random forest obtiene muchos mejores resulados que el SVC, que tiene casi el resultado mínimo para este caso de 3 clases que seria 0.33."
      ]
    },
    {
      "cell_type": "markdown",
      "metadata": {
        "id": "vKnosUKGj_m1"
      },
      "source": [
        "## **Validación usando clasificación**"
      ]
    },
    {
      "cell_type": "code",
      "metadata": {
        "id": "q2wRLD0qkKEo",
        "colab": {
          "base_uri": "https://localhost:8080/"
        },
        "outputId": "a6047038-3ead-4bbc-98a1-41786cf4df12"
      },
      "source": [
        "datos = df.values[:,:]\n",
        "n = int(len(datos)*0.8)\n",
        "\n",
        "X_train = datos[:,[1,2,7,8]]\n",
        "#X_test = datos[n:,[1,2,7,8]]\n",
        "y_train = datos[:,9]    \n",
        "#y_test = datos[n:,9]\n",
        "\n",
        "depth = [20,25,50,100]\n",
        "trees = [10,50,100,250]\n",
        "estimator = RandomForestClassifier(max_depth=20,criterion='entropy', n_estimators=10)\n",
        "estimator.fit(X_train, y_train)\n",
        "\n",
        "grupos = grupos_dataset.values[:,:]  \n",
        "X_validation = grupos[:,[1,2,7,8]]\n",
        "ground_truth = grupos[:,9]      \n",
        "predicciones = estimator.predict(X_validation)\n",
        "accuracy = accuracy_score(predicciones, ground_truth)\n",
        "print(\"predicciones: \\n\", predicciones, \"\\n Precisión: \\n\", accuracy)\n",
        "predicciones.shape\n",
        "\n",
        "\n"
      ],
      "execution_count": null,
      "outputs": [
        {
          "output_type": "stream",
          "name": "stdout",
          "text": [
            "predicciones: \n",
            " ['1' '1' '1' '2' '2' '1' '1' '1' '1' '1' '2' '0' '2' '1' '2' '2' '1' '0'\n",
            " '1' '0'] \n",
            " Precisión: \n",
            " 0.45\n"
          ]
        },
        {
          "output_type": "execute_result",
          "data": {
            "text/plain": [
              "(20,)"
            ]
          },
          "metadata": {},
          "execution_count": 83
        }
      ]
    },
    {
      "cell_type": "code",
      "metadata": {
        "colab": {
          "base_uri": "https://localhost:8080/",
          "height": 248
        },
        "id": "3RcIxjU22Le8",
        "outputId": "336c8006-0179-41fa-ff5f-007b2ecd548e"
      },
      "source": [
        "datos = cuartos_dataset.values[:,:]\n",
        "X_validation = datos[:,[1,2,7,8]]\n",
        "ground_truth = datos[:,9]      \n",
        "\n",
        "\n",
        "predicciones = estimator.predict(X_validation)\n",
        "accuracy = accuracy_score(predicciones, ground_truth)\n",
        "print(\"predicciones: \\n\", predicciones, \"\\n Precisión: \\n\", accuracy)\n",
        "cuartos_dataset\n",
        "\n"
      ],
      "execution_count": null,
      "outputs": [
        {
          "output_type": "stream",
          "name": "stdout",
          "text": [
            "predicciones: \n",
            " ['1' '1' '2' '0'] \n",
            " Precisión: \n",
            " 0.25\n"
          ]
        },
        {
          "output_type": "execute_result",
          "data": {
            "text/html": [
              "<div>\n",
              "<style scoped>\n",
              "    .dataframe tbody tr th:only-of-type {\n",
              "        vertical-align: middle;\n",
              "    }\n",
              "\n",
              "    .dataframe tbody tr th {\n",
              "        vertical-align: top;\n",
              "    }\n",
              "\n",
              "    .dataframe thead th {\n",
              "        text-align: right;\n",
              "    }\n",
              "</style>\n",
              "<table border=\"1\" class=\"dataframe\">\n",
              "  <thead>\n",
              "    <tr style=\"text-align: right;\">\n",
              "      <th></th>\n",
              "      <th>date</th>\n",
              "      <th>home_team</th>\n",
              "      <th>away_team</th>\n",
              "      <th>home_score</th>\n",
              "      <th>away_score</th>\n",
              "      <th>tournament</th>\n",
              "      <th>city</th>\n",
              "      <th>country</th>\n",
              "      <th>neutral</th>\n",
              "      <th>result</th>\n",
              "    </tr>\n",
              "  </thead>\n",
              "  <tbody>\n",
              "    <tr>\n",
              "      <th>42404</th>\n",
              "      <td>2021-07-02</td>\n",
              "      <td>8</td>\n",
              "      <td>7</td>\n",
              "      <td>3</td>\n",
              "      <td>3</td>\n",
              "      <td>Copa América</td>\n",
              "      <td>Goiânia</td>\n",
              "      <td>3</td>\n",
              "      <td>1</td>\n",
              "      <td>0</td>\n",
              "    </tr>\n",
              "    <tr>\n",
              "      <th>42405</th>\n",
              "      <td>2021-07-02</td>\n",
              "      <td>3</td>\n",
              "      <td>4</td>\n",
              "      <td>1</td>\n",
              "      <td>0</td>\n",
              "      <td>Copa América</td>\n",
              "      <td>Rio de Janeiro</td>\n",
              "      <td>3</td>\n",
              "      <td>0</td>\n",
              "      <td>1</td>\n",
              "    </tr>\n",
              "    <tr>\n",
              "      <th>42412</th>\n",
              "      <td>2021-07-03</td>\n",
              "      <td>9</td>\n",
              "      <td>5</td>\n",
              "      <td>0</td>\n",
              "      <td>0</td>\n",
              "      <td>Copa América</td>\n",
              "      <td>Brasília</td>\n",
              "      <td>3</td>\n",
              "      <td>1</td>\n",
              "      <td>0</td>\n",
              "    </tr>\n",
              "    <tr>\n",
              "      <th>42413</th>\n",
              "      <td>2021-07-03</td>\n",
              "      <td>1</td>\n",
              "      <td>6</td>\n",
              "      <td>3</td>\n",
              "      <td>0</td>\n",
              "      <td>Copa América</td>\n",
              "      <td>Goiânia</td>\n",
              "      <td>3</td>\n",
              "      <td>0</td>\n",
              "      <td>1</td>\n",
              "    </tr>\n",
              "  </tbody>\n",
              "</table>\n",
              "</div>"
            ],
            "text/plain": [
              "            date  home_team  away_team  ...  country  neutral result\n",
              "42404 2021-07-02          8          7  ...        3        1      0\n",
              "42405 2021-07-02          3          4  ...        3        0      1\n",
              "42412 2021-07-03          9          5  ...        3        1      0\n",
              "42413 2021-07-03          1          6  ...        3        0      1\n",
              "\n",
              "[4 rows x 10 columns]"
            ]
          },
          "metadata": {},
          "execution_count": 84
        }
      ]
    },
    {
      "cell_type": "markdown",
      "metadata": {
        "id": "aK5oV1dg41NZ"
      },
      "source": [
        "El estimador predijo que Peru, Uruguay y Argentina pasaron a la final, una precisión del 75%"
      ]
    },
    {
      "cell_type": "code",
      "metadata": {
        "colab": {
          "base_uri": "https://localhost:8080/",
          "height": 186
        },
        "id": "8wjJZsft2TQU",
        "outputId": "6ed0d9fc-29df-4d1f-f27e-aeec82137d2c"
      },
      "source": [
        "datos = smf_dataset.values[:,:]\n",
        "X_validation = datos[:,[1,2,7,8]]\n",
        "ground_truth = datos[:,9]      \n",
        "\n",
        "predicciones = estimator.predict(X_validation)\n",
        "accuracy = accuracy_score(predicciones, ground_truth)\n",
        "print(\"predicciones: \\n\", predicciones, \"\\n Precisión: \\n\", accuracy)\n",
        "smf_dataset\n"
      ],
      "execution_count": null,
      "outputs": [
        {
          "output_type": "stream",
          "name": "stdout",
          "text": [
            "predicciones: \n",
            " ['1' '2'] \n",
            " Precisión: \n",
            " 0.5\n"
          ]
        },
        {
          "output_type": "execute_result",
          "data": {
            "text/html": [
              "<div>\n",
              "<style scoped>\n",
              "    .dataframe tbody tr th:only-of-type {\n",
              "        vertical-align: middle;\n",
              "    }\n",
              "\n",
              "    .dataframe tbody tr th {\n",
              "        vertical-align: top;\n",
              "    }\n",
              "\n",
              "    .dataframe thead th {\n",
              "        text-align: right;\n",
              "    }\n",
              "</style>\n",
              "<table border=\"1\" class=\"dataframe\">\n",
              "  <thead>\n",
              "    <tr style=\"text-align: right;\">\n",
              "      <th></th>\n",
              "      <th>date</th>\n",
              "      <th>home_team</th>\n",
              "      <th>away_team</th>\n",
              "      <th>home_score</th>\n",
              "      <th>away_score</th>\n",
              "      <th>tournament</th>\n",
              "      <th>city</th>\n",
              "      <th>country</th>\n",
              "      <th>neutral</th>\n",
              "      <th>result</th>\n",
              "    </tr>\n",
              "  </thead>\n",
              "  <tbody>\n",
              "    <tr>\n",
              "      <th>42418</th>\n",
              "      <td>2021-07-05</td>\n",
              "      <td>3</td>\n",
              "      <td>8</td>\n",
              "      <td>1</td>\n",
              "      <td>0</td>\n",
              "      <td>Copa América</td>\n",
              "      <td>Rio de Janeiro</td>\n",
              "      <td>3</td>\n",
              "      <td>0</td>\n",
              "      <td>1</td>\n",
              "    </tr>\n",
              "    <tr>\n",
              "      <th>42419</th>\n",
              "      <td>2021-07-06</td>\n",
              "      <td>1</td>\n",
              "      <td>5</td>\n",
              "      <td>1</td>\n",
              "      <td>1</td>\n",
              "      <td>Copa América</td>\n",
              "      <td>Brasília</td>\n",
              "      <td>3</td>\n",
              "      <td>1</td>\n",
              "      <td>0</td>\n",
              "    </tr>\n",
              "  </tbody>\n",
              "</table>\n",
              "</div>"
            ],
            "text/plain": [
              "            date  home_team  away_team  ...  country  neutral result\n",
              "42418 2021-07-05          3          8  ...        3        0      1\n",
              "42419 2021-07-06          1          5  ...        3        1      0\n",
              "\n",
              "[2 rows x 10 columns]"
            ]
          },
          "metadata": {},
          "execution_count": 85
        }
      ]
    },
    {
      "cell_type": "markdown",
      "metadata": {
        "id": "LGQSPY5n4sjI"
      },
      "source": [
        "El estimador predijo que Brasil y colombia pasaban a la final, un 50% de precisión"
      ]
    },
    {
      "cell_type": "code",
      "metadata": {
        "colab": {
          "base_uri": "https://localhost:8080/",
          "height": 186
        },
        "id": "zxCFGxsI2Wjh",
        "outputId": "871824bc-9699-41ce-b1d3-8cd527d56425"
      },
      "source": [
        "datos = f_dataset.values[:,:]\n",
        "X_validation = datos[:,[1,2,7,8]]\n",
        "ground_truth = datos[:,9]      \n",
        "\n",
        "predicciones = estimator.predict(X_validation)\n",
        "accuracy = accuracy_score(predicciones, ground_truth)\n",
        "print(\"predicciones: \\n\", predicciones, \"\\n Precisión: \\n\", accuracy)\n",
        "f_dataset"
      ],
      "execution_count": null,
      "outputs": [
        {
          "output_type": "stream",
          "name": "stdout",
          "text": [
            "predicciones: \n",
            " ['2' '1'] \n",
            " Precisión: \n",
            " 0.5\n"
          ]
        },
        {
          "output_type": "execute_result",
          "data": {
            "text/html": [
              "<div>\n",
              "<style scoped>\n",
              "    .dataframe tbody tr th:only-of-type {\n",
              "        vertical-align: middle;\n",
              "    }\n",
              "\n",
              "    .dataframe tbody tr th {\n",
              "        vertical-align: top;\n",
              "    }\n",
              "\n",
              "    .dataframe thead th {\n",
              "        text-align: right;\n",
              "    }\n",
              "</style>\n",
              "<table border=\"1\" class=\"dataframe\">\n",
              "  <thead>\n",
              "    <tr style=\"text-align: right;\">\n",
              "      <th></th>\n",
              "      <th>date</th>\n",
              "      <th>home_team</th>\n",
              "      <th>away_team</th>\n",
              "      <th>home_score</th>\n",
              "      <th>away_score</th>\n",
              "      <th>tournament</th>\n",
              "      <th>city</th>\n",
              "      <th>country</th>\n",
              "      <th>neutral</th>\n",
              "      <th>result</th>\n",
              "    </tr>\n",
              "  </thead>\n",
              "  <tbody>\n",
              "    <tr>\n",
              "      <th>42431</th>\n",
              "      <td>2021-07-09</td>\n",
              "      <td>8</td>\n",
              "      <td>5</td>\n",
              "      <td>2</td>\n",
              "      <td>3</td>\n",
              "      <td>Copa América</td>\n",
              "      <td>Brasília</td>\n",
              "      <td>3</td>\n",
              "      <td>1</td>\n",
              "      <td>2</td>\n",
              "    </tr>\n",
              "    <tr>\n",
              "      <th>42434</th>\n",
              "      <td>2021-07-10</td>\n",
              "      <td>3</td>\n",
              "      <td>1</td>\n",
              "      <td>0</td>\n",
              "      <td>1</td>\n",
              "      <td>Copa América</td>\n",
              "      <td>Rio de Janeiro</td>\n",
              "      <td>3</td>\n",
              "      <td>0</td>\n",
              "      <td>2</td>\n",
              "    </tr>\n",
              "  </tbody>\n",
              "</table>\n",
              "</div>"
            ],
            "text/plain": [
              "            date  home_team  away_team  ...  country  neutral result\n",
              "42431 2021-07-09          8          5  ...        3        1      2\n",
              "42434 2021-07-10          3          1  ...        3        0      2\n",
              "\n",
              "[2 rows x 10 columns]"
            ]
          },
          "metadata": {},
          "execution_count": 86
        }
      ]
    },
    {
      "cell_type": "markdown",
      "metadata": {
        "id": "HOvxgzbV5CwL"
      },
      "source": [
        "El estimador predijo a Brasil como el ganador, y a Colombia como el tercer puesto, un 50% de precisión"
      ]
    }
  ]
}